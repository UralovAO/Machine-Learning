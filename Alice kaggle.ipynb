{
 "cells": [
  {
   "cell_type": "markdown",
   "metadata": {},
   "source": [
    "# <center>Соревнование Kaggle \"Идентификация пользователей по посещенным веб-страницам\""
   ]
  },
  {
   "cell_type": "markdown",
   "metadata": {},
   "source": [
    "## Цели и задачи проекта\n",
    "\n",
    "**В данном проекте решается задача определения конкретного пользователся по посещенным веб-сайтам. Алгоритм будет анализировать последовательность из нескольких веб-сайтов, посещенных подряд одним и тем же человеком, и определять, Элис это или взломщик (кто-то другой).**"
   ]
  },
  {
   "cell_type": "markdown",
   "metadata": {},
   "source": [
    "## Исходные данные\n",
    "\n",
    "**Данные представлены на странице соревнования Kaggle** https://www.kaggle.com/c/catch-me-if-you-can-intruder-detection-through-webpage-session-tracking2.\n",
    "\n",
    "* в файле \"train_sessions.csv\" содержится обучающая выборка,\n",
    "* в файле \"test_sessions.csv\" содержится тестовая выборка,\n",
    "* в файле \"site_dic.pkl\" содержится словарь соответствия индексов и названи сайтов\n",
    "\n",
    "\n",
    "**В обучающей выборке представлены следующие признаки:**\n",
    "\n",
    "- site1 – индекс первого посещенного сайта в сессии\n",
    "- time1 – время посещения первого сайта в сессии\n",
    "- ...\n",
    "- site10 – индекс 10-го посещенного сайта в сессии\n",
    "- time10 – время посещения 10-го сайта в сессии\n",
    "- user_id – ID пользователя\n",
    "\n",
    "**Сессии пользователей выделены таким образом, что они не могут быть длинее получаса или 10 сайтов. То есть сессия считается оконченной либо когда пользователь посетил 10 сайтов подряд, либо когда сессия заняла по времени более 30 минут.**"
   ]
  },
  {
   "cell_type": "markdown",
   "metadata": {},
   "source": [
    "### Подключение необходимых библиотек и загрузка данных"
   ]
  },
  {
   "cell_type": "code",
   "execution_count": 1,
   "metadata": {},
   "outputs": [],
   "source": [
    "from __future__ import division, print_function\n",
    "# отключим всякие предупреждения Anaconda\n",
    "import warnings\n",
    "warnings.filterwarnings('ignore')\n",
    "import os\n",
    "import pickle\n",
    "import numpy as np\n",
    "import pandas as pd\n",
    "from sklearn.metrics import roc_auc_score\n",
    "\n",
    "from sklearn.preprocessing import OneHotEncoder\n",
    "from scipy.sparse import hstack\n",
    "from sklearn.model_selection import train_test_split, cross_val_score, StratifiedKFold, GridSearchCV\n",
    "import sys\n",
    "from time import ctime, time\n",
    "%matplotlib inline\n",
    "from matplotlib import pyplot as plt\n",
    "from pandas.plotting import scatter_matrix\n",
    "from sklearn.model_selection import learning_curve\n",
    "\n",
    "from sklearn.feature_extraction.text import TfidfVectorizer\n",
    "from sklearn.preprocessing import StandardScaler\n",
    "from sklearn.model_selection import TimeSeriesSplit, cross_val_score\n",
    "from sklearn.linear_model import LogisticRegression, LogisticRegressionCV"
   ]
  },
  {
   "cell_type": "markdown",
   "metadata": {},
   "source": [
    "**Создадим константы для путей к файлам с выборками.**"
   ]
  },
  {
   "cell_type": "code",
   "execution_count": 2,
   "metadata": {},
   "outputs": [],
   "source": [
    "PATH_TO_DATA = 'data'\n",
    "TFIDF_MAX_FEATURES = 100000\n",
    "TFIDF_NGRAM_RANGE = (1, 5)\n",
    "SEED = 17\n",
    "LIMIT_TIMESPAN = 600\n",
    "\n",
    "path_to_train = os.path.join(PATH_TO_DATA, 'train_sessions.csv')\n",
    "path_to_test  = os.path.join(PATH_TO_DATA, 'test_sessions.csv')\n",
    "path_to_site_dict = os.path.join(PATH_TO_DATA, 'site_dic.pkl')"
   ]
  },
  {
   "cell_type": "markdown",
   "metadata": {},
   "source": [
    "**Настроим внешний вид вывода данных для библиотек `numpy` и `pandas`**"
   ]
  },
  {
   "cell_type": "code",
   "execution_count": 3,
   "metadata": {},
   "outputs": [],
   "source": [
    "np.set_printoptions(linewidth = 100)\n",
    "pd.set_option('display.max_columns', 1000)"
   ]
  },
  {
   "cell_type": "markdown",
   "metadata": {},
   "source": [
    "**Считаем данные из файлов. При этом сразу преобразуем временные признаки в формат `datetime64[ns]`.**"
   ]
  },
  {
   "cell_type": "code",
   "execution_count": 4,
   "metadata": {},
   "outputs": [],
   "source": [
    "time_features = [f'time{i}' for i in range(1, 11)]\n",
    "train_df = pd.read_csv(path_to_train, index_col='session_id', parse_dates=time_features)\n",
    "test_df  = pd.read_csv(path_to_test, index_col='session_id', parse_dates=time_features)"
   ]
  },
  {
   "cell_type": "code",
   "execution_count": 5,
   "metadata": {},
   "outputs": [
    {
     "name": "stdout",
     "output_type": "stream",
     "text": [
      "<class 'pandas.core.frame.DataFrame'>\n",
      "Int64Index: 253561 entries, 1 to 253561\n",
      "Data columns (total 21 columns):\n",
      " #   Column  Non-Null Count   Dtype         \n",
      "---  ------  --------------   -----         \n",
      " 0   site1   253561 non-null  int64         \n",
      " 1   time1   253561 non-null  datetime64[ns]\n",
      " 2   site2   250098 non-null  float64       \n",
      " 3   time2   250098 non-null  datetime64[ns]\n",
      " 4   site3   246919 non-null  float64       \n",
      " 5   time3   246919 non-null  datetime64[ns]\n",
      " 6   site4   244321 non-null  float64       \n",
      " 7   time4   244321 non-null  datetime64[ns]\n",
      " 8   site5   241829 non-null  float64       \n",
      " 9   time5   241829 non-null  datetime64[ns]\n",
      " 10  site6   239495 non-null  float64       \n",
      " 11  time6   239495 non-null  datetime64[ns]\n",
      " 12  site7   237297 non-null  float64       \n",
      " 13  time7   237297 non-null  datetime64[ns]\n",
      " 14  site8   235224 non-null  float64       \n",
      " 15  time8   235224 non-null  datetime64[ns]\n",
      " 16  site9   233084 non-null  float64       \n",
      " 17  time9   233084 non-null  datetime64[ns]\n",
      " 18  site10  231052 non-null  float64       \n",
      " 19  time10  231052 non-null  datetime64[ns]\n",
      " 20  target  253561 non-null  int64         \n",
      "dtypes: datetime64[ns](10), float64(9), int64(2)\n",
      "memory usage: 42.6 MB\n"
     ]
    }
   ],
   "source": [
    "train_df.info()"
   ]
  },
  {
   "cell_type": "code",
   "execution_count": 6,
   "metadata": {},
   "outputs": [
    {
     "name": "stdout",
     "output_type": "stream",
     "text": [
      "<class 'pandas.core.frame.DataFrame'>\n",
      "Int64Index: 82797 entries, 1 to 82797\n",
      "Data columns (total 20 columns):\n",
      " #   Column  Non-Null Count  Dtype         \n",
      "---  ------  --------------  -----         \n",
      " 0   site1   82797 non-null  int64         \n",
      " 1   time1   82797 non-null  datetime64[ns]\n",
      " 2   site2   81308 non-null  float64       \n",
      " 3   time2   81308 non-null  datetime64[ns]\n",
      " 4   site3   80075 non-null  float64       \n",
      " 5   time3   80075 non-null  datetime64[ns]\n",
      " 6   site4   79182 non-null  float64       \n",
      " 7   time4   79182 non-null  datetime64[ns]\n",
      " 8   site5   78341 non-null  float64       \n",
      " 9   time5   78341 non-null  datetime64[ns]\n",
      " 10  site6   77566 non-null  float64       \n",
      " 11  time6   77566 non-null  datetime64[ns]\n",
      " 12  site7   76840 non-null  float64       \n",
      " 13  time7   76840 non-null  datetime64[ns]\n",
      " 14  site8   76151 non-null  float64       \n",
      " 15  time8   76151 non-null  datetime64[ns]\n",
      " 16  site9   75484 non-null  float64       \n",
      " 17  time9   75484 non-null  datetime64[ns]\n",
      " 18  site10  74806 non-null  float64       \n",
      " 19  time10  74806 non-null  datetime64[ns]\n",
      "dtypes: datetime64[ns](10), float64(9), int64(1)\n",
      "memory usage: 13.3 MB\n"
     ]
    }
   ],
   "source": [
    "test_df.info()"
   ]
  },
  {
   "cell_type": "markdown",
   "metadata": {},
   "source": [
    "**Исходную обучающую выборку необходимо отсортировать по возрастанию времени.**"
   ]
  },
  {
   "cell_type": "code",
   "execution_count": 7,
   "metadata": {},
   "outputs": [],
   "source": [
    "train_df = train_df.sort_values(by='time1')"
   ]
  },
  {
   "cell_type": "code",
   "execution_count": 8,
   "metadata": {},
   "outputs": [
    {
     "data": {
      "text/html": [
       "<div>\n",
       "<style scoped>\n",
       "    .dataframe tbody tr th:only-of-type {\n",
       "        vertical-align: middle;\n",
       "    }\n",
       "\n",
       "    .dataframe tbody tr th {\n",
       "        vertical-align: top;\n",
       "    }\n",
       "\n",
       "    .dataframe thead th {\n",
       "        text-align: right;\n",
       "    }\n",
       "</style>\n",
       "<table border=\"1\" class=\"dataframe\">\n",
       "  <thead>\n",
       "    <tr style=\"text-align: right;\">\n",
       "      <th></th>\n",
       "      <th>site1</th>\n",
       "      <th>time1</th>\n",
       "      <th>site2</th>\n",
       "      <th>time2</th>\n",
       "      <th>site3</th>\n",
       "      <th>time3</th>\n",
       "      <th>site4</th>\n",
       "      <th>time4</th>\n",
       "      <th>site5</th>\n",
       "      <th>time5</th>\n",
       "      <th>site6</th>\n",
       "      <th>time6</th>\n",
       "      <th>site7</th>\n",
       "      <th>time7</th>\n",
       "      <th>site8</th>\n",
       "      <th>time8</th>\n",
       "      <th>site9</th>\n",
       "      <th>time9</th>\n",
       "      <th>site10</th>\n",
       "      <th>time10</th>\n",
       "      <th>target</th>\n",
       "    </tr>\n",
       "    <tr>\n",
       "      <th>session_id</th>\n",
       "      <th></th>\n",
       "      <th></th>\n",
       "      <th></th>\n",
       "      <th></th>\n",
       "      <th></th>\n",
       "      <th></th>\n",
       "      <th></th>\n",
       "      <th></th>\n",
       "      <th></th>\n",
       "      <th></th>\n",
       "      <th></th>\n",
       "      <th></th>\n",
       "      <th></th>\n",
       "      <th></th>\n",
       "      <th></th>\n",
       "      <th></th>\n",
       "      <th></th>\n",
       "      <th></th>\n",
       "      <th></th>\n",
       "      <th></th>\n",
       "      <th></th>\n",
       "    </tr>\n",
       "  </thead>\n",
       "  <tbody>\n",
       "    <tr>\n",
       "      <th>21669</th>\n",
       "      <td>56</td>\n",
       "      <td>2013-01-12 08:05:57</td>\n",
       "      <td>55.0</td>\n",
       "      <td>2013-01-12 08:05:57</td>\n",
       "      <td>NaN</td>\n",
       "      <td>NaT</td>\n",
       "      <td>NaN</td>\n",
       "      <td>NaT</td>\n",
       "      <td>NaN</td>\n",
       "      <td>NaT</td>\n",
       "      <td>NaN</td>\n",
       "      <td>NaT</td>\n",
       "      <td>NaN</td>\n",
       "      <td>NaT</td>\n",
       "      <td>NaN</td>\n",
       "      <td>NaT</td>\n",
       "      <td>NaN</td>\n",
       "      <td>NaT</td>\n",
       "      <td>NaN</td>\n",
       "      <td>NaT</td>\n",
       "      <td>0</td>\n",
       "    </tr>\n",
       "    <tr>\n",
       "      <th>54843</th>\n",
       "      <td>56</td>\n",
       "      <td>2013-01-12 08:37:23</td>\n",
       "      <td>55.0</td>\n",
       "      <td>2013-01-12 08:37:23</td>\n",
       "      <td>56.0</td>\n",
       "      <td>2013-01-12 09:07:07</td>\n",
       "      <td>55.0</td>\n",
       "      <td>2013-01-12 09:07:09</td>\n",
       "      <td>NaN</td>\n",
       "      <td>NaT</td>\n",
       "      <td>NaN</td>\n",
       "      <td>NaT</td>\n",
       "      <td>NaN</td>\n",
       "      <td>NaT</td>\n",
       "      <td>NaN</td>\n",
       "      <td>NaT</td>\n",
       "      <td>NaN</td>\n",
       "      <td>NaT</td>\n",
       "      <td>NaN</td>\n",
       "      <td>NaT</td>\n",
       "      <td>0</td>\n",
       "    </tr>\n",
       "    <tr>\n",
       "      <th>77292</th>\n",
       "      <td>946</td>\n",
       "      <td>2013-01-12 08:50:13</td>\n",
       "      <td>946.0</td>\n",
       "      <td>2013-01-12 08:50:14</td>\n",
       "      <td>951.0</td>\n",
       "      <td>2013-01-12 08:50:15</td>\n",
       "      <td>946.0</td>\n",
       "      <td>2013-01-12 08:50:15</td>\n",
       "      <td>946.0</td>\n",
       "      <td>2013-01-12 08:50:16</td>\n",
       "      <td>945.0</td>\n",
       "      <td>2013-01-12 08:50:16</td>\n",
       "      <td>948.0</td>\n",
       "      <td>2013-01-12 08:50:16</td>\n",
       "      <td>784.0</td>\n",
       "      <td>2013-01-12 08:50:16</td>\n",
       "      <td>949.0</td>\n",
       "      <td>2013-01-12 08:50:17</td>\n",
       "      <td>946.0</td>\n",
       "      <td>2013-01-12 08:50:17</td>\n",
       "      <td>0</td>\n",
       "    </tr>\n",
       "    <tr>\n",
       "      <th>114021</th>\n",
       "      <td>945</td>\n",
       "      <td>2013-01-12 08:50:17</td>\n",
       "      <td>948.0</td>\n",
       "      <td>2013-01-12 08:50:17</td>\n",
       "      <td>949.0</td>\n",
       "      <td>2013-01-12 08:50:18</td>\n",
       "      <td>948.0</td>\n",
       "      <td>2013-01-12 08:50:18</td>\n",
       "      <td>945.0</td>\n",
       "      <td>2013-01-12 08:50:18</td>\n",
       "      <td>946.0</td>\n",
       "      <td>2013-01-12 08:50:18</td>\n",
       "      <td>947.0</td>\n",
       "      <td>2013-01-12 08:50:19</td>\n",
       "      <td>945.0</td>\n",
       "      <td>2013-01-12 08:50:19</td>\n",
       "      <td>946.0</td>\n",
       "      <td>2013-01-12 08:50:19</td>\n",
       "      <td>946.0</td>\n",
       "      <td>2013-01-12 08:50:20</td>\n",
       "      <td>0</td>\n",
       "    </tr>\n",
       "    <tr>\n",
       "      <th>146670</th>\n",
       "      <td>947</td>\n",
       "      <td>2013-01-12 08:50:20</td>\n",
       "      <td>950.0</td>\n",
       "      <td>2013-01-12 08:50:20</td>\n",
       "      <td>948.0</td>\n",
       "      <td>2013-01-12 08:50:20</td>\n",
       "      <td>947.0</td>\n",
       "      <td>2013-01-12 08:50:21</td>\n",
       "      <td>950.0</td>\n",
       "      <td>2013-01-12 08:50:21</td>\n",
       "      <td>952.0</td>\n",
       "      <td>2013-01-12 08:50:21</td>\n",
       "      <td>946.0</td>\n",
       "      <td>2013-01-12 08:50:21</td>\n",
       "      <td>951.0</td>\n",
       "      <td>2013-01-12 08:50:22</td>\n",
       "      <td>946.0</td>\n",
       "      <td>2013-01-12 08:50:22</td>\n",
       "      <td>947.0</td>\n",
       "      <td>2013-01-12 08:50:22</td>\n",
       "      <td>0</td>\n",
       "    </tr>\n",
       "  </tbody>\n",
       "</table>\n",
       "</div>"
      ],
      "text/plain": [
       "            site1               time1  site2               time2  site3  \\\n",
       "session_id                                                                \n",
       "21669          56 2013-01-12 08:05:57   55.0 2013-01-12 08:05:57    NaN   \n",
       "54843          56 2013-01-12 08:37:23   55.0 2013-01-12 08:37:23   56.0   \n",
       "77292         946 2013-01-12 08:50:13  946.0 2013-01-12 08:50:14  951.0   \n",
       "114021        945 2013-01-12 08:50:17  948.0 2013-01-12 08:50:17  949.0   \n",
       "146670        947 2013-01-12 08:50:20  950.0 2013-01-12 08:50:20  948.0   \n",
       "\n",
       "                         time3  site4               time4  site5  \\\n",
       "session_id                                                         \n",
       "21669                      NaT    NaN                 NaT    NaN   \n",
       "54843      2013-01-12 09:07:07   55.0 2013-01-12 09:07:09    NaN   \n",
       "77292      2013-01-12 08:50:15  946.0 2013-01-12 08:50:15  946.0   \n",
       "114021     2013-01-12 08:50:18  948.0 2013-01-12 08:50:18  945.0   \n",
       "146670     2013-01-12 08:50:20  947.0 2013-01-12 08:50:21  950.0   \n",
       "\n",
       "                         time5  site6               time6  site7  \\\n",
       "session_id                                                         \n",
       "21669                      NaT    NaN                 NaT    NaN   \n",
       "54843                      NaT    NaN                 NaT    NaN   \n",
       "77292      2013-01-12 08:50:16  945.0 2013-01-12 08:50:16  948.0   \n",
       "114021     2013-01-12 08:50:18  946.0 2013-01-12 08:50:18  947.0   \n",
       "146670     2013-01-12 08:50:21  952.0 2013-01-12 08:50:21  946.0   \n",
       "\n",
       "                         time7  site8               time8  site9  \\\n",
       "session_id                                                         \n",
       "21669                      NaT    NaN                 NaT    NaN   \n",
       "54843                      NaT    NaN                 NaT    NaN   \n",
       "77292      2013-01-12 08:50:16  784.0 2013-01-12 08:50:16  949.0   \n",
       "114021     2013-01-12 08:50:19  945.0 2013-01-12 08:50:19  946.0   \n",
       "146670     2013-01-12 08:50:21  951.0 2013-01-12 08:50:22  946.0   \n",
       "\n",
       "                         time9  site10              time10  target  \n",
       "session_id                                                          \n",
       "21669                      NaT     NaN                 NaT       0  \n",
       "54843                      NaT     NaN                 NaT       0  \n",
       "77292      2013-01-12 08:50:17   946.0 2013-01-12 08:50:17       0  \n",
       "114021     2013-01-12 08:50:19   946.0 2013-01-12 08:50:20       0  \n",
       "146670     2013-01-12 08:50:22   947.0 2013-01-12 08:50:22       0  "
      ]
     },
     "execution_count": 8,
     "metadata": {},
     "output_type": "execute_result"
    }
   ],
   "source": [
    "train_df.head()"
   ]
  },
  {
   "cell_type": "markdown",
   "metadata": {},
   "source": [
    "**Для удобства работы с посещенными сайтами считаем словарь сайтов с индексами.**"
   ]
  },
  {
   "cell_type": "code",
   "execution_count": 9,
   "metadata": {},
   "outputs": [],
   "source": [
    "with open(path_to_site_dict, 'rb') as f:\n",
    "    site2id = pickle.load(f)\n",
    "\n",
    "# Получим обратное преобразование: индекса сайта в его название\n",
    "id2site = {v:k for (k, v) in site2id.items()}\n",
    "# Сайт с индексом \"0\" назовем \"unknown\"\n",
    "id2site[0] = 'unknown'"
   ]
  },
  {
   "cell_type": "code",
   "execution_count": 10,
   "metadata": {},
   "outputs": [],
   "source": [
    "site_features = ['site%s' % i for i in range(1, 11)]\n",
    "train_df[site_features] = train_df[site_features].fillna(0).astype('int')\n",
    "test_df[site_features] = test_df[site_features].fillna(0).astype('int')"
   ]
  },
  {
   "cell_type": "code",
   "execution_count": 11,
   "metadata": {},
   "outputs": [],
   "source": [
    "for i in range(1, 11):\n",
    "    train_df[f'site{i}'] = train_df[f'site{i}'].apply(lambda x: id2site[x])\n",
    "    test_df[f'site{i}'] = test_df[f'site{i}'].apply(lambda x: id2site[x])"
   ]
  },
  {
   "cell_type": "markdown",
   "metadata": {},
   "source": [
    "**Добавим длительность посещения первых 9-ти сайтов. Длительность для 10-го сайта нам неизвестна**"
   ]
  },
  {
   "cell_type": "code",
   "execution_count": 12,
   "metadata": {},
   "outputs": [],
   "source": [
    "for i in range(1, 10):\n",
    "    train_df[f'timespan{i}'] = train_df[f'time{i+1}'] - train_df[f'time{i}']\n",
    "    train_df[f'timespan{i}'] = train_df[f'timespan{i}'].apply(lambda x: x.seconds)\n",
    "    \n",
    "    test_df[f'timespan{i}'] = test_df[f'time{i+1}'] - test_df[f'time{i}']\n",
    "    test_df[f'timespan{i}'] = test_df[f'timespan{i}'].apply(lambda x: x.seconds)"
   ]
  },
  {
   "cell_type": "code",
   "execution_count": 13,
   "metadata": {},
   "outputs": [
    {
     "data": {
      "text/html": [
       "<div>\n",
       "<style scoped>\n",
       "    .dataframe tbody tr th:only-of-type {\n",
       "        vertical-align: middle;\n",
       "    }\n",
       "\n",
       "    .dataframe tbody tr th {\n",
       "        vertical-align: top;\n",
       "    }\n",
       "\n",
       "    .dataframe thead th {\n",
       "        text-align: right;\n",
       "    }\n",
       "</style>\n",
       "<table border=\"1\" class=\"dataframe\">\n",
       "  <thead>\n",
       "    <tr style=\"text-align: right;\">\n",
       "      <th></th>\n",
       "      <th>site1</th>\n",
       "      <th>time1</th>\n",
       "      <th>site2</th>\n",
       "      <th>time2</th>\n",
       "      <th>site3</th>\n",
       "      <th>time3</th>\n",
       "      <th>site4</th>\n",
       "      <th>time4</th>\n",
       "      <th>site5</th>\n",
       "      <th>time5</th>\n",
       "      <th>site6</th>\n",
       "      <th>time6</th>\n",
       "      <th>site7</th>\n",
       "      <th>time7</th>\n",
       "      <th>site8</th>\n",
       "      <th>time8</th>\n",
       "      <th>site9</th>\n",
       "      <th>time9</th>\n",
       "      <th>site10</th>\n",
       "      <th>time10</th>\n",
       "      <th>target</th>\n",
       "      <th>timespan1</th>\n",
       "      <th>timespan2</th>\n",
       "      <th>timespan3</th>\n",
       "      <th>timespan4</th>\n",
       "      <th>timespan5</th>\n",
       "      <th>timespan6</th>\n",
       "      <th>timespan7</th>\n",
       "      <th>timespan8</th>\n",
       "      <th>timespan9</th>\n",
       "    </tr>\n",
       "    <tr>\n",
       "      <th>session_id</th>\n",
       "      <th></th>\n",
       "      <th></th>\n",
       "      <th></th>\n",
       "      <th></th>\n",
       "      <th></th>\n",
       "      <th></th>\n",
       "      <th></th>\n",
       "      <th></th>\n",
       "      <th></th>\n",
       "      <th></th>\n",
       "      <th></th>\n",
       "      <th></th>\n",
       "      <th></th>\n",
       "      <th></th>\n",
       "      <th></th>\n",
       "      <th></th>\n",
       "      <th></th>\n",
       "      <th></th>\n",
       "      <th></th>\n",
       "      <th></th>\n",
       "      <th></th>\n",
       "      <th></th>\n",
       "      <th></th>\n",
       "      <th></th>\n",
       "      <th></th>\n",
       "      <th></th>\n",
       "      <th></th>\n",
       "      <th></th>\n",
       "      <th></th>\n",
       "      <th></th>\n",
       "    </tr>\n",
       "  </thead>\n",
       "  <tbody>\n",
       "    <tr>\n",
       "      <th>21669</th>\n",
       "      <td>safebrowsing.clients.google.com</td>\n",
       "      <td>2013-01-12 08:05:57</td>\n",
       "      <td>safebrowsing-cache.google.com</td>\n",
       "      <td>2013-01-12 08:05:57</td>\n",
       "      <td>unknown</td>\n",
       "      <td>NaT</td>\n",
       "      <td>unknown</td>\n",
       "      <td>NaT</td>\n",
       "      <td>unknown</td>\n",
       "      <td>NaT</td>\n",
       "      <td>unknown</td>\n",
       "      <td>NaT</td>\n",
       "      <td>unknown</td>\n",
       "      <td>NaT</td>\n",
       "      <td>unknown</td>\n",
       "      <td>NaT</td>\n",
       "      <td>unknown</td>\n",
       "      <td>NaT</td>\n",
       "      <td>unknown</td>\n",
       "      <td>NaT</td>\n",
       "      <td>0</td>\n",
       "      <td>0.0</td>\n",
       "      <td>NaN</td>\n",
       "      <td>NaN</td>\n",
       "      <td>NaN</td>\n",
       "      <td>NaN</td>\n",
       "      <td>NaN</td>\n",
       "      <td>NaN</td>\n",
       "      <td>NaN</td>\n",
       "      <td>NaN</td>\n",
       "    </tr>\n",
       "    <tr>\n",
       "      <th>54843</th>\n",
       "      <td>safebrowsing.clients.google.com</td>\n",
       "      <td>2013-01-12 08:37:23</td>\n",
       "      <td>safebrowsing-cache.google.com</td>\n",
       "      <td>2013-01-12 08:37:23</td>\n",
       "      <td>safebrowsing.clients.google.com</td>\n",
       "      <td>2013-01-12 09:07:07</td>\n",
       "      <td>safebrowsing-cache.google.com</td>\n",
       "      <td>2013-01-12 09:07:09</td>\n",
       "      <td>unknown</td>\n",
       "      <td>NaT</td>\n",
       "      <td>unknown</td>\n",
       "      <td>NaT</td>\n",
       "      <td>unknown</td>\n",
       "      <td>NaT</td>\n",
       "      <td>unknown</td>\n",
       "      <td>NaT</td>\n",
       "      <td>unknown</td>\n",
       "      <td>NaT</td>\n",
       "      <td>unknown</td>\n",
       "      <td>NaT</td>\n",
       "      <td>0</td>\n",
       "      <td>0.0</td>\n",
       "      <td>1784.0</td>\n",
       "      <td>2.0</td>\n",
       "      <td>NaN</td>\n",
       "      <td>NaN</td>\n",
       "      <td>NaN</td>\n",
       "      <td>NaN</td>\n",
       "      <td>NaN</td>\n",
       "      <td>NaN</td>\n",
       "    </tr>\n",
       "    <tr>\n",
       "      <th>77292</th>\n",
       "      <td>www.apache.org</td>\n",
       "      <td>2013-01-12 08:50:13</td>\n",
       "      <td>www.apache.org</td>\n",
       "      <td>2013-01-12 08:50:14</td>\n",
       "      <td>download.eclipse.org</td>\n",
       "      <td>2013-01-12 08:50:15</td>\n",
       "      <td>www.apache.org</td>\n",
       "      <td>2013-01-12 08:50:15</td>\n",
       "      <td>www.apache.org</td>\n",
       "      <td>2013-01-12 08:50:16</td>\n",
       "      <td>www.webtide.com</td>\n",
       "      <td>2013-01-12 08:50:16</td>\n",
       "      <td>download.oracle.com</td>\n",
       "      <td>2013-01-12 08:50:16</td>\n",
       "      <td>javadl-esd-secure.oracle.com</td>\n",
       "      <td>2013-01-12 08:50:16</td>\n",
       "      <td>www.caucho.com</td>\n",
       "      <td>2013-01-12 08:50:17</td>\n",
       "      <td>www.apache.org</td>\n",
       "      <td>2013-01-12 08:50:17</td>\n",
       "      <td>0</td>\n",
       "      <td>1.0</td>\n",
       "      <td>1.0</td>\n",
       "      <td>0.0</td>\n",
       "      <td>1.0</td>\n",
       "      <td>0.0</td>\n",
       "      <td>0.0</td>\n",
       "      <td>0.0</td>\n",
       "      <td>1.0</td>\n",
       "      <td>0.0</td>\n",
       "    </tr>\n",
       "    <tr>\n",
       "      <th>114021</th>\n",
       "      <td>www.webtide.com</td>\n",
       "      <td>2013-01-12 08:50:17</td>\n",
       "      <td>download.oracle.com</td>\n",
       "      <td>2013-01-12 08:50:17</td>\n",
       "      <td>www.caucho.com</td>\n",
       "      <td>2013-01-12 08:50:18</td>\n",
       "      <td>download.oracle.com</td>\n",
       "      <td>2013-01-12 08:50:18</td>\n",
       "      <td>www.webtide.com</td>\n",
       "      <td>2013-01-12 08:50:18</td>\n",
       "      <td>www.apache.org</td>\n",
       "      <td>2013-01-12 08:50:18</td>\n",
       "      <td>public.dhe.ibm.com</td>\n",
       "      <td>2013-01-12 08:50:19</td>\n",
       "      <td>www.webtide.com</td>\n",
       "      <td>2013-01-12 08:50:19</td>\n",
       "      <td>www.apache.org</td>\n",
       "      <td>2013-01-12 08:50:19</td>\n",
       "      <td>www.apache.org</td>\n",
       "      <td>2013-01-12 08:50:20</td>\n",
       "      <td>0</td>\n",
       "      <td>0.0</td>\n",
       "      <td>1.0</td>\n",
       "      <td>0.0</td>\n",
       "      <td>0.0</td>\n",
       "      <td>0.0</td>\n",
       "      <td>1.0</td>\n",
       "      <td>0.0</td>\n",
       "      <td>0.0</td>\n",
       "      <td>1.0</td>\n",
       "    </tr>\n",
       "    <tr>\n",
       "      <th>146670</th>\n",
       "      <td>public.dhe.ibm.com</td>\n",
       "      <td>2013-01-12 08:50:20</td>\n",
       "      <td>jope.ow2.org</td>\n",
       "      <td>2013-01-12 08:50:20</td>\n",
       "      <td>download.oracle.com</td>\n",
       "      <td>2013-01-12 08:50:20</td>\n",
       "      <td>public.dhe.ibm.com</td>\n",
       "      <td>2013-01-12 08:50:21</td>\n",
       "      <td>jope.ow2.org</td>\n",
       "      <td>2013-01-12 08:50:21</td>\n",
       "      <td>master.dl.sourceforge.net</td>\n",
       "      <td>2013-01-12 08:50:21</td>\n",
       "      <td>www.apache.org</td>\n",
       "      <td>2013-01-12 08:50:21</td>\n",
       "      <td>download.eclipse.org</td>\n",
       "      <td>2013-01-12 08:50:22</td>\n",
       "      <td>www.apache.org</td>\n",
       "      <td>2013-01-12 08:50:22</td>\n",
       "      <td>public.dhe.ibm.com</td>\n",
       "      <td>2013-01-12 08:50:22</td>\n",
       "      <td>0</td>\n",
       "      <td>0.0</td>\n",
       "      <td>0.0</td>\n",
       "      <td>1.0</td>\n",
       "      <td>0.0</td>\n",
       "      <td>0.0</td>\n",
       "      <td>0.0</td>\n",
       "      <td>1.0</td>\n",
       "      <td>0.0</td>\n",
       "      <td>0.0</td>\n",
       "    </tr>\n",
       "  </tbody>\n",
       "</table>\n",
       "</div>"
      ],
      "text/plain": [
       "                                      site1               time1  \\\n",
       "session_id                                                        \n",
       "21669       safebrowsing.clients.google.com 2013-01-12 08:05:57   \n",
       "54843       safebrowsing.clients.google.com 2013-01-12 08:37:23   \n",
       "77292                        www.apache.org 2013-01-12 08:50:13   \n",
       "114021                      www.webtide.com 2013-01-12 08:50:17   \n",
       "146670                   public.dhe.ibm.com 2013-01-12 08:50:20   \n",
       "\n",
       "                                    site2               time2  \\\n",
       "session_id                                                      \n",
       "21669       safebrowsing-cache.google.com 2013-01-12 08:05:57   \n",
       "54843       safebrowsing-cache.google.com 2013-01-12 08:37:23   \n",
       "77292                      www.apache.org 2013-01-12 08:50:14   \n",
       "114021                download.oracle.com 2013-01-12 08:50:17   \n",
       "146670                       jope.ow2.org 2013-01-12 08:50:20   \n",
       "\n",
       "                                      site3               time3  \\\n",
       "session_id                                                        \n",
       "21669                               unknown                 NaT   \n",
       "54843       safebrowsing.clients.google.com 2013-01-12 09:07:07   \n",
       "77292                  download.eclipse.org 2013-01-12 08:50:15   \n",
       "114021                       www.caucho.com 2013-01-12 08:50:18   \n",
       "146670                  download.oracle.com 2013-01-12 08:50:20   \n",
       "\n",
       "                                    site4               time4  \\\n",
       "session_id                                                      \n",
       "21669                             unknown                 NaT   \n",
       "54843       safebrowsing-cache.google.com 2013-01-12 09:07:09   \n",
       "77292                      www.apache.org 2013-01-12 08:50:15   \n",
       "114021                download.oracle.com 2013-01-12 08:50:18   \n",
       "146670                 public.dhe.ibm.com 2013-01-12 08:50:21   \n",
       "\n",
       "                      site5               time5                      site6  \\\n",
       "session_id                                                                   \n",
       "21669               unknown                 NaT                    unknown   \n",
       "54843               unknown                 NaT                    unknown   \n",
       "77292        www.apache.org 2013-01-12 08:50:16            www.webtide.com   \n",
       "114021      www.webtide.com 2013-01-12 08:50:18             www.apache.org   \n",
       "146670         jope.ow2.org 2013-01-12 08:50:21  master.dl.sourceforge.net   \n",
       "\n",
       "                         time6                site7               time7  \\\n",
       "session_id                                                                \n",
       "21669                      NaT              unknown                 NaT   \n",
       "54843                      NaT              unknown                 NaT   \n",
       "77292      2013-01-12 08:50:16  download.oracle.com 2013-01-12 08:50:16   \n",
       "114021     2013-01-12 08:50:18   public.dhe.ibm.com 2013-01-12 08:50:19   \n",
       "146670     2013-01-12 08:50:21       www.apache.org 2013-01-12 08:50:21   \n",
       "\n",
       "                                   site8               time8           site9  \\\n",
       "session_id                                                                     \n",
       "21669                            unknown                 NaT         unknown   \n",
       "54843                            unknown                 NaT         unknown   \n",
       "77292       javadl-esd-secure.oracle.com 2013-01-12 08:50:16  www.caucho.com   \n",
       "114021                   www.webtide.com 2013-01-12 08:50:19  www.apache.org   \n",
       "146670              download.eclipse.org 2013-01-12 08:50:22  www.apache.org   \n",
       "\n",
       "                         time9              site10              time10  \\\n",
       "session_id                                                               \n",
       "21669                      NaT             unknown                 NaT   \n",
       "54843                      NaT             unknown                 NaT   \n",
       "77292      2013-01-12 08:50:17      www.apache.org 2013-01-12 08:50:17   \n",
       "114021     2013-01-12 08:50:19      www.apache.org 2013-01-12 08:50:20   \n",
       "146670     2013-01-12 08:50:22  public.dhe.ibm.com 2013-01-12 08:50:22   \n",
       "\n",
       "            target  timespan1  timespan2  timespan3  timespan4  timespan5  \\\n",
       "session_id                                                                  \n",
       "21669            0        0.0        NaN        NaN        NaN        NaN   \n",
       "54843            0        0.0     1784.0        2.0        NaN        NaN   \n",
       "77292            0        1.0        1.0        0.0        1.0        0.0   \n",
       "114021           0        0.0        1.0        0.0        0.0        0.0   \n",
       "146670           0        0.0        0.0        1.0        0.0        0.0   \n",
       "\n",
       "            timespan6  timespan7  timespan8  timespan9  \n",
       "session_id                                              \n",
       "21669             NaN        NaN        NaN        NaN  \n",
       "54843             NaN        NaN        NaN        NaN  \n",
       "77292             0.0        0.0        1.0        0.0  \n",
       "114021            1.0        0.0        0.0        1.0  \n",
       "146670            0.0        1.0        0.0        0.0  "
      ]
     },
     "execution_count": 13,
     "metadata": {},
     "output_type": "execute_result"
    }
   ],
   "source": [
    "train_df.head()"
   ]
  },
  {
   "cell_type": "markdown",
   "metadata": {},
   "source": [
    "**Добавим признак \"Сайт с наибольшей длительностью посещения\". При этом длительность должна превышать значение LIMIT_TIMESPAN. Смысл в том, чтобы указать сайт на котором пользователь провел достаточно долгое время (больше 10 минут)**"
   ]
  },
  {
   "cell_type": "code",
   "execution_count": 14,
   "metadata": {},
   "outputs": [],
   "source": [
    "timespans_feature_list = [f'timespan{i}' for i in range(1, 10)]"
   ]
  },
  {
   "cell_type": "code",
   "execution_count": 15,
   "metadata": {},
   "outputs": [],
   "source": [
    "def get_site_with_max_timespan(row):\n",
    "    idxmax = row.loc[timespans_feature_list].astype(float).idxmax(skipna=True)\n",
    "    if pd.isnull(idxmax):\n",
    "        result = 'None'\n",
    "    else:\n",
    "        result = row.loc[f'site{idxmax[-1]}'] if row.loc[idxmax] > LIMIT_TIMESPAN else 'None'\n",
    "    return result"
   ]
  },
  {
   "cell_type": "code",
   "execution_count": 16,
   "metadata": {},
   "outputs": [
    {
     "name": "stdout",
     "output_type": "stream",
     "text": [
      "Wall time: 6min 54s\n"
     ]
    }
   ],
   "source": [
    "%%time\n",
    "train_df['site_with_max_timespan'] = train_df.apply(get_site_with_max_timespan, axis=1)\n",
    "test_df['site_with_max_timespan'] = test_df.apply(get_site_with_max_timespan, axis=1)"
   ]
  },
  {
   "cell_type": "markdown",
   "metadata": {},
   "source": [
    "**Для удобства разделим имещиеся данные на выборку с сайтами (`train_sites` для обучения, `test_sites` для теста) и выборку с временными параметрами (`train_times` для обучения, `test_times` для теста). Ответы на обучающей выборке поместим в отдельный массив `y_train`.**"
   ]
  },
  {
   "cell_type": "code",
   "execution_count": 17,
   "metadata": {},
   "outputs": [],
   "source": [
    "tfidf_features = ['site%s' % i for i in range(1, 11)]\n",
    "\n",
    "train_tfidf_df = train_df[tfidf_features]\n",
    "test_tfidf_df  = test_df[tfidf_features]\n",
    "\n",
    "train_times_df = train_df[time_features+['site_with_max_timespan']]\n",
    "test_times_df  = test_df[time_features+['site_with_max_timespan']]\n",
    "\n",
    "y_train = train_df['target'].astype('int').values"
   ]
  },
  {
   "cell_type": "code",
   "execution_count": 18,
   "metadata": {},
   "outputs": [
    {
     "data": {
      "text/html": [
       "<div>\n",
       "<style scoped>\n",
       "    .dataframe tbody tr th:only-of-type {\n",
       "        vertical-align: middle;\n",
       "    }\n",
       "\n",
       "    .dataframe tbody tr th {\n",
       "        vertical-align: top;\n",
       "    }\n",
       "\n",
       "    .dataframe thead th {\n",
       "        text-align: right;\n",
       "    }\n",
       "</style>\n",
       "<table border=\"1\" class=\"dataframe\">\n",
       "  <thead>\n",
       "    <tr style=\"text-align: right;\">\n",
       "      <th></th>\n",
       "      <th>time1</th>\n",
       "      <th>time2</th>\n",
       "      <th>time3</th>\n",
       "      <th>time4</th>\n",
       "      <th>time5</th>\n",
       "      <th>time6</th>\n",
       "      <th>time7</th>\n",
       "      <th>time8</th>\n",
       "      <th>time9</th>\n",
       "      <th>time10</th>\n",
       "      <th>site_with_max_timespan</th>\n",
       "    </tr>\n",
       "    <tr>\n",
       "      <th>session_id</th>\n",
       "      <th></th>\n",
       "      <th></th>\n",
       "      <th></th>\n",
       "      <th></th>\n",
       "      <th></th>\n",
       "      <th></th>\n",
       "      <th></th>\n",
       "      <th></th>\n",
       "      <th></th>\n",
       "      <th></th>\n",
       "      <th></th>\n",
       "    </tr>\n",
       "  </thead>\n",
       "  <tbody>\n",
       "    <tr>\n",
       "      <th>21669</th>\n",
       "      <td>2013-01-12 08:05:57</td>\n",
       "      <td>2013-01-12 08:05:57</td>\n",
       "      <td>NaT</td>\n",
       "      <td>NaT</td>\n",
       "      <td>NaT</td>\n",
       "      <td>NaT</td>\n",
       "      <td>NaT</td>\n",
       "      <td>NaT</td>\n",
       "      <td>NaT</td>\n",
       "      <td>NaT</td>\n",
       "      <td>None</td>\n",
       "    </tr>\n",
       "    <tr>\n",
       "      <th>54843</th>\n",
       "      <td>2013-01-12 08:37:23</td>\n",
       "      <td>2013-01-12 08:37:23</td>\n",
       "      <td>2013-01-12 09:07:07</td>\n",
       "      <td>2013-01-12 09:07:09</td>\n",
       "      <td>NaT</td>\n",
       "      <td>NaT</td>\n",
       "      <td>NaT</td>\n",
       "      <td>NaT</td>\n",
       "      <td>NaT</td>\n",
       "      <td>NaT</td>\n",
       "      <td>safebrowsing-cache.google.com</td>\n",
       "    </tr>\n",
       "    <tr>\n",
       "      <th>77292</th>\n",
       "      <td>2013-01-12 08:50:13</td>\n",
       "      <td>2013-01-12 08:50:14</td>\n",
       "      <td>2013-01-12 08:50:15</td>\n",
       "      <td>2013-01-12 08:50:15</td>\n",
       "      <td>2013-01-12 08:50:16</td>\n",
       "      <td>2013-01-12 08:50:16</td>\n",
       "      <td>2013-01-12 08:50:16</td>\n",
       "      <td>2013-01-12 08:50:16</td>\n",
       "      <td>2013-01-12 08:50:17</td>\n",
       "      <td>2013-01-12 08:50:17</td>\n",
       "      <td>None</td>\n",
       "    </tr>\n",
       "    <tr>\n",
       "      <th>114021</th>\n",
       "      <td>2013-01-12 08:50:17</td>\n",
       "      <td>2013-01-12 08:50:17</td>\n",
       "      <td>2013-01-12 08:50:18</td>\n",
       "      <td>2013-01-12 08:50:18</td>\n",
       "      <td>2013-01-12 08:50:18</td>\n",
       "      <td>2013-01-12 08:50:18</td>\n",
       "      <td>2013-01-12 08:50:19</td>\n",
       "      <td>2013-01-12 08:50:19</td>\n",
       "      <td>2013-01-12 08:50:19</td>\n",
       "      <td>2013-01-12 08:50:20</td>\n",
       "      <td>None</td>\n",
       "    </tr>\n",
       "    <tr>\n",
       "      <th>146670</th>\n",
       "      <td>2013-01-12 08:50:20</td>\n",
       "      <td>2013-01-12 08:50:20</td>\n",
       "      <td>2013-01-12 08:50:20</td>\n",
       "      <td>2013-01-12 08:50:21</td>\n",
       "      <td>2013-01-12 08:50:21</td>\n",
       "      <td>2013-01-12 08:50:21</td>\n",
       "      <td>2013-01-12 08:50:21</td>\n",
       "      <td>2013-01-12 08:50:22</td>\n",
       "      <td>2013-01-12 08:50:22</td>\n",
       "      <td>2013-01-12 08:50:22</td>\n",
       "      <td>None</td>\n",
       "    </tr>\n",
       "  </tbody>\n",
       "</table>\n",
       "</div>"
      ],
      "text/plain": [
       "                         time1               time2               time3  \\\n",
       "session_id                                                               \n",
       "21669      2013-01-12 08:05:57 2013-01-12 08:05:57                 NaT   \n",
       "54843      2013-01-12 08:37:23 2013-01-12 08:37:23 2013-01-12 09:07:07   \n",
       "77292      2013-01-12 08:50:13 2013-01-12 08:50:14 2013-01-12 08:50:15   \n",
       "114021     2013-01-12 08:50:17 2013-01-12 08:50:17 2013-01-12 08:50:18   \n",
       "146670     2013-01-12 08:50:20 2013-01-12 08:50:20 2013-01-12 08:50:20   \n",
       "\n",
       "                         time4               time5               time6  \\\n",
       "session_id                                                               \n",
       "21669                      NaT                 NaT                 NaT   \n",
       "54843      2013-01-12 09:07:09                 NaT                 NaT   \n",
       "77292      2013-01-12 08:50:15 2013-01-12 08:50:16 2013-01-12 08:50:16   \n",
       "114021     2013-01-12 08:50:18 2013-01-12 08:50:18 2013-01-12 08:50:18   \n",
       "146670     2013-01-12 08:50:21 2013-01-12 08:50:21 2013-01-12 08:50:21   \n",
       "\n",
       "                         time7               time8               time9  \\\n",
       "session_id                                                               \n",
       "21669                      NaT                 NaT                 NaT   \n",
       "54843                      NaT                 NaT                 NaT   \n",
       "77292      2013-01-12 08:50:16 2013-01-12 08:50:16 2013-01-12 08:50:17   \n",
       "114021     2013-01-12 08:50:19 2013-01-12 08:50:19 2013-01-12 08:50:19   \n",
       "146670     2013-01-12 08:50:21 2013-01-12 08:50:22 2013-01-12 08:50:22   \n",
       "\n",
       "                        time10         site_with_max_timespan  \n",
       "session_id                                                     \n",
       "21669                      NaT                           None  \n",
       "54843                      NaT  safebrowsing-cache.google.com  \n",
       "77292      2013-01-12 08:50:17                           None  \n",
       "114021     2013-01-12 08:50:20                           None  \n",
       "146670     2013-01-12 08:50:22                           None  "
      ]
     },
     "execution_count": 18,
     "metadata": {},
     "output_type": "execute_result"
    }
   ],
   "source": [
    "train_times_df.head()"
   ]
  },
  {
   "cell_type": "code",
   "execution_count": 19,
   "metadata": {},
   "outputs": [
    {
     "data": {
      "text/html": [
       "<div>\n",
       "<style scoped>\n",
       "    .dataframe tbody tr th:only-of-type {\n",
       "        vertical-align: middle;\n",
       "    }\n",
       "\n",
       "    .dataframe tbody tr th {\n",
       "        vertical-align: top;\n",
       "    }\n",
       "\n",
       "    .dataframe thead th {\n",
       "        text-align: right;\n",
       "    }\n",
       "</style>\n",
       "<table border=\"1\" class=\"dataframe\">\n",
       "  <thead>\n",
       "    <tr style=\"text-align: right;\">\n",
       "      <th></th>\n",
       "      <th>site1</th>\n",
       "      <th>site2</th>\n",
       "      <th>site3</th>\n",
       "      <th>site4</th>\n",
       "      <th>site5</th>\n",
       "      <th>site6</th>\n",
       "      <th>site7</th>\n",
       "      <th>site8</th>\n",
       "      <th>site9</th>\n",
       "      <th>site10</th>\n",
       "    </tr>\n",
       "    <tr>\n",
       "      <th>session_id</th>\n",
       "      <th></th>\n",
       "      <th></th>\n",
       "      <th></th>\n",
       "      <th></th>\n",
       "      <th></th>\n",
       "      <th></th>\n",
       "      <th></th>\n",
       "      <th></th>\n",
       "      <th></th>\n",
       "      <th></th>\n",
       "    </tr>\n",
       "  </thead>\n",
       "  <tbody>\n",
       "    <tr>\n",
       "      <th>1</th>\n",
       "      <td>www.facebook.com</td>\n",
       "      <td>s-static.ak.facebook.com</td>\n",
       "      <td>apis.google.com</td>\n",
       "      <td>c1.adform.net</td>\n",
       "      <td>www.google.com</td>\n",
       "      <td>mpp2.vindicosuite.com</td>\n",
       "      <td>api.nanigans.com</td>\n",
       "      <td>www.google.fr</td>\n",
       "      <td>secure.vistaprint.fr</td>\n",
       "      <td>www.vistaprint.fr</td>\n",
       "    </tr>\n",
       "    <tr>\n",
       "      <th>2</th>\n",
       "      <td>annotathon.org</td>\n",
       "      <td>annotathon.org</td>\n",
       "      <td>annotathon.org</td>\n",
       "      <td>annotathon.org</td>\n",
       "      <td>annotathon.org</td>\n",
       "      <td>annotathon.org</td>\n",
       "      <td>annotathon.org</td>\n",
       "      <td>annotathon.org</td>\n",
       "      <td>annotathon.org</td>\n",
       "      <td>annotathon.org</td>\n",
       "    </tr>\n",
       "    <tr>\n",
       "      <th>3</th>\n",
       "      <td>safebrowsing-cache.google.com</td>\n",
       "      <td>safebrowsing-cache.google.com</td>\n",
       "      <td>safebrowsing-cache.google.com</td>\n",
       "      <td>safebrowsing-cache.google.com</td>\n",
       "      <td>safebrowsing-cache.google.com</td>\n",
       "      <td>safebrowsing-cache.google.com</td>\n",
       "      <td>safebrowsing-cache.google.com</td>\n",
       "      <td>safebrowsing-cache.google.com</td>\n",
       "      <td>o2i.univ-bpclermont.fr</td>\n",
       "      <td>o2i.univ-bpclermont.fr</td>\n",
       "    </tr>\n",
       "    <tr>\n",
       "      <th>4</th>\n",
       "      <td>fr.yahoo.com</td>\n",
       "      <td>yahoo.fr</td>\n",
       "      <td>ocsp.verisign.com</td>\n",
       "      <td>ocsp.thawte.com</td>\n",
       "      <td>rapidssl-ocsp.geotrust.com</td>\n",
       "      <td>clicks.beap.bc.yahoo.com</td>\n",
       "      <td>ocsp.verisign.com</td>\n",
       "      <td>ocsp.digicert.com</td>\n",
       "      <td>ocsp.digicert.com</td>\n",
       "      <td>clicks.beap.bc.yahoo.com</td>\n",
       "    </tr>\n",
       "    <tr>\n",
       "      <th>5</th>\n",
       "      <td>sci.sciences.univ-bpclermont.fr</td>\n",
       "      <td>sci.sciences.univ-bpclermont.fr</td>\n",
       "      <td>sci.sciences.univ-bpclermont.fr</td>\n",
       "      <td>go.microsoft.com</td>\n",
       "      <td>windows.microsoft.com</td>\n",
       "      <td>res2.windows.microsoft.com</td>\n",
       "      <td>res1.windows.microsoft.com</td>\n",
       "      <td>ajax.microsoft.com</td>\n",
       "      <td>js.microsoft.com</td>\n",
       "      <td>www.bing.com</td>\n",
       "    </tr>\n",
       "  </tbody>\n",
       "</table>\n",
       "</div>"
      ],
      "text/plain": [
       "                                      site1                            site2  \\\n",
       "session_id                                                                     \n",
       "1                          www.facebook.com         s-static.ak.facebook.com   \n",
       "2                            annotathon.org                   annotathon.org   \n",
       "3             safebrowsing-cache.google.com    safebrowsing-cache.google.com   \n",
       "4                              fr.yahoo.com                         yahoo.fr   \n",
       "5           sci.sciences.univ-bpclermont.fr  sci.sciences.univ-bpclermont.fr   \n",
       "\n",
       "                                      site3                          site4  \\\n",
       "session_id                                                                   \n",
       "1                           apis.google.com                  c1.adform.net   \n",
       "2                            annotathon.org                 annotathon.org   \n",
       "3             safebrowsing-cache.google.com  safebrowsing-cache.google.com   \n",
       "4                         ocsp.verisign.com                ocsp.thawte.com   \n",
       "5           sci.sciences.univ-bpclermont.fr               go.microsoft.com   \n",
       "\n",
       "                                    site5                          site6  \\\n",
       "session_id                                                                 \n",
       "1                          www.google.com          mpp2.vindicosuite.com   \n",
       "2                          annotathon.org                 annotathon.org   \n",
       "3           safebrowsing-cache.google.com  safebrowsing-cache.google.com   \n",
       "4              rapidssl-ocsp.geotrust.com       clicks.beap.bc.yahoo.com   \n",
       "5                   windows.microsoft.com     res2.windows.microsoft.com   \n",
       "\n",
       "                                    site7                          site8  \\\n",
       "session_id                                                                 \n",
       "1                        api.nanigans.com                  www.google.fr   \n",
       "2                          annotathon.org                 annotathon.org   \n",
       "3           safebrowsing-cache.google.com  safebrowsing-cache.google.com   \n",
       "4                       ocsp.verisign.com              ocsp.digicert.com   \n",
       "5              res1.windows.microsoft.com             ajax.microsoft.com   \n",
       "\n",
       "                             site9                    site10  \n",
       "session_id                                                    \n",
       "1             secure.vistaprint.fr         www.vistaprint.fr  \n",
       "2                   annotathon.org            annotathon.org  \n",
       "3           o2i.univ-bpclermont.fr    o2i.univ-bpclermont.fr  \n",
       "4                ocsp.digicert.com  clicks.beap.bc.yahoo.com  \n",
       "5                 js.microsoft.com              www.bing.com  "
      ]
     },
     "execution_count": 19,
     "metadata": {},
     "output_type": "execute_result"
    }
   ],
   "source": [
    "test_tfidf_df.head()"
   ]
  },
  {
   "cell_type": "markdown",
   "metadata": {},
   "source": [
    "### Работа с посещенными сайтами"
   ]
  },
  {
   "cell_type": "markdown",
   "metadata": {},
   "source": [
    "**Для обработки данных по посещенным сайтом воспользуемся классом `TfidfVectorizer`.\n",
    "Преобразуем данные в формат, удобный для TfidfVectorizer. Создадим списки посещенных сайтов из названий сайтов**"
   ]
  },
  {
   "cell_type": "code",
   "execution_count": 20,
   "metadata": {},
   "outputs": [],
   "source": [
    "train_tfidf_list = train_tfidf_df.apply(lambda row: ' '.join(i for i in row), axis=1).tolist()\n",
    "test_tfidf_list  = test_tfidf_df.apply(lambda row: ' '.join(i for i in row), axis=1).tolist()"
   ]
  },
  {
   "cell_type": "code",
   "execution_count": 21,
   "metadata": {},
   "outputs": [
    {
     "name": "stdout",
     "output_type": "stream",
     "text": [
      "safebrowsing.clients.google.com safebrowsing-cache.google.com unknown unknown unknown unknown unknown unknown unknown unknown \n",
      "\n",
      "safebrowsing.clients.google.com safebrowsing-cache.google.com safebrowsing.clients.google.com safebrowsing-cache.google.com unknown unknown unknown unknown unknown unknown \n",
      "\n",
      "www.apache.org www.apache.org download.eclipse.org www.apache.org www.apache.org www.webtide.com download.oracle.com javadl-esd-secure.oracle.com www.caucho.com www.apache.org \n",
      "\n"
     ]
    }
   ],
   "source": [
    "for i in [0, 1, 2]:\n",
    "    print(train_tfidf_list[i], '\\n')"
   ]
  },
  {
   "cell_type": "markdown",
   "metadata": {},
   "source": [
    "**Создаем словарь с параметрами `TfidfVectorizer`. Разделять слова будем по пробелам.**"
   ]
  },
  {
   "cell_type": "code",
   "execution_count": 22,
   "metadata": {},
   "outputs": [],
   "source": [
    "vectorizer_params={'ngram_range': TFIDF_NGRAM_RANGE, \n",
    "                   'max_features': TFIDF_MAX_FEATURES,\n",
    "                   'tokenizer': lambda s: s.split()}\n",
    "\n",
    "vectorizer = TfidfVectorizer(**vectorizer_params)"
   ]
  },
  {
   "cell_type": "markdown",
   "metadata": {},
   "source": [
    "**Применим `TfidfVectorizer` к данным и сохранмим результаты в две выборки (`X_train_sites` для обучения, `X_test_sites` для теста).**"
   ]
  },
  {
   "cell_type": "code",
   "execution_count": 23,
   "metadata": {},
   "outputs": [],
   "source": [
    "X_train_tfidf = vectorizer.fit_transform(train_tfidf_list)\n",
    "X_test_tfidf  = vectorizer.transform(test_tfidf_list)"
   ]
  },
  {
   "cell_type": "code",
   "execution_count": 24,
   "metadata": {},
   "outputs": [
    {
     "data": {
      "text/plain": [
       "(253561, 100000)"
      ]
     },
     "execution_count": 24,
     "metadata": {},
     "output_type": "execute_result"
    }
   ],
   "source": [
    "X_train_tfidf.shape"
   ]
  },
  {
   "cell_type": "markdown",
   "metadata": {},
   "source": [
    "**В дополнение к результатм `TfidfVectorizer` cформируем еще признак \"количество уникальных посещенных сайтов\"**"
   ]
  },
  {
   "cell_type": "code",
   "execution_count": 25,
   "metadata": {},
   "outputs": [],
   "source": [
    "train_num_unique_sites = train_tfidf_df.nunique(axis=1).values.reshape(-1, 1)\n",
    "test_num_unique_sites = test_tfidf_df.nunique(axis=1).values.reshape(-1, 1)"
   ]
  },
  {
   "cell_type": "code",
   "execution_count": 26,
   "metadata": {},
   "outputs": [
    {
     "data": {
      "image/png": "[encoded data removed]",
      "text/plain": [
       "<Figure size 1080x288 with 2 Axes>"
      ]
     },
     "metadata": {
      "needs_background": "light"
     },
     "output_type": "display_data"
    }
   ],
   "source": [
    "fig, ax = plt.subplots(nrows=1, ncols=2, figsize=(15, 4))\n",
    "\n",
    "ax[0].hist(train_num_unique_sites, edgecolor='black')\n",
    "ax[0].set_title('train')\n",
    "ax[0].set_ylabel('Кол-во сессий')\n",
    "ax[0].set_xlabel('Кол-во уникальных посещенных сайтов')\n",
    "ax[0].grid()\n",
    "\n",
    "ax[1].hist(test_num_unique_sites, edgecolor='black')\n",
    "ax[1].set_title('test')\n",
    "ax[1].set_ylabel('Кол-во сессий')\n",
    "ax[1].set_xlabel('Кол-во уникальных посещенных сайтов')\n",
    "ax[1].grid()"
   ]
  },
  {
   "cell_type": "code",
   "execution_count": 27,
   "metadata": {},
   "outputs": [
    {
     "data": {
      "image/png": "[encoded data removed]",
      "text/plain": [
       "<Figure size 1080x288 with 2 Axes>"
      ]
     },
     "metadata": {
      "needs_background": "light"
     },
     "output_type": "display_data"
    }
   ],
   "source": [
    "fig, ax = plt.subplots(nrows=1, ncols=2, figsize=(15, 4))\n",
    "\n",
    "for i in [0, 1]:\n",
    "    ax[i].hist(train_num_unique_sites[y_train == i], edgecolor='black', bins=range(0, 9), align='left')\n",
    "    ax[i].set_title('Others' if i == 0 else 'Alice')\n",
    "    ax[i].set_ylabel('Кол-во сессий')\n",
    "    ax[i].set_xlabel('Кол-во уникальных посещенных сайтов')\n",
    "    ax[i].set_xticks(range(0, 7))\n",
    "    ax[i].grid()"
   ]
  },
  {
   "cell_type": "markdown",
   "metadata": {},
   "source": [
    "### Работа с временными признаками"
   ]
  },
  {
   "cell_type": "markdown",
   "metadata": {},
   "source": [
    "**В исходной обучающей выборке даны времена посещения каждого сайта. Добавим следующие признаки:**\n",
    "* `min` - временная метка начала сессии,\n",
    "* `max` - временная метка окончания сессии,\n",
    "* `hour` - час начала сессии,\n",
    "* `day_of_week` - день недели начала сессии,\n",
    "* `month` - месяц начала сессии,\n",
    "* `all_duration` - продолжительность сессии в секундах.\n",
    "* `avg_duration` - средняя продолжительность посещения сайта в сессии в секундах."
   ]
  },
  {
   "cell_type": "code",
   "execution_count": 28,
   "metadata": {},
   "outputs": [],
   "source": [
    "def time_features_general(time_data_df):\n",
    "    df = pd.DataFrame()\n",
    "    df['min'] = time_data_df[time_features].min(axis=1)\n",
    "    df['max'] = time_data_df[time_features].max(axis=1)\n",
    "\n",
    "    df['minute']        = df['min'].dt.minute                 # Минута начала сессии\n",
    "    df['hour']        = df['min'].dt.hour                     # Час начала сессии\n",
    "    df['day_of_week'] = df['min'].dt.dayofweek                # День начала сессии (0..6)\n",
    "    df['day_of_month']      = df['min'].dt.day                # Число месяца начала сессии\n",
    "    df['month']       = df['min'].dt.month                    # Месяц начала сессии (1..12)\n",
    "    df['year']        = df['min'].dt.year                     # Год начала сессии\n",
    "    df['all_duration']= (df['max'] - df['min']).dt.seconds    # Продолжительность сессии в секундах\n",
    "    \n",
    "    df['site_with_max_timespan'] = time_data_df['site_with_max_timespan']\n",
    "    \n",
    "    return df"
   ]
  },
  {
   "cell_type": "code",
   "execution_count": 29,
   "metadata": {},
   "outputs": [
    {
     "name": "stdout",
     "output_type": "stream",
     "text": [
      "(253561, 10)\n",
      "(82797, 10)\n"
     ]
    }
   ],
   "source": [
    "X_train_times = time_features_general(train_times_df)\n",
    "X_test_times  = time_features_general(test_times_df)\n",
    "\n",
    "print(X_train_times.shape)\n",
    "print(X_test_times.shape)"
   ]
  },
  {
   "cell_type": "markdown",
   "metadata": {},
   "source": [
    "**Признак `all_duration` необходимо отмасштабировать.**"
   ]
  },
  {
   "cell_type": "code",
   "execution_count": 30,
   "metadata": {},
   "outputs": [],
   "source": [
    "duration_scaler = StandardScaler()\n",
    "\n",
    "X_train_times['all_duration'] = duration_scaler.fit_transform(X_train_times['all_duration'].values.reshape(-1, 1))\n",
    "X_test_times['all_duration'] = duration_scaler.transform(X_test_times['all_duration'].values.reshape(-1, 1))"
   ]
  },
  {
   "cell_type": "code",
   "execution_count": 31,
   "metadata": {},
   "outputs": [
    {
     "data": {
      "text/html": [
       "<div>\n",
       "<style scoped>\n",
       "    .dataframe tbody tr th:only-of-type {\n",
       "        vertical-align: middle;\n",
       "    }\n",
       "\n",
       "    .dataframe tbody tr th {\n",
       "        vertical-align: top;\n",
       "    }\n",
       "\n",
       "    .dataframe thead th {\n",
       "        text-align: right;\n",
       "    }\n",
       "</style>\n",
       "<table border=\"1\" class=\"dataframe\">\n",
       "  <thead>\n",
       "    <tr style=\"text-align: right;\">\n",
       "      <th></th>\n",
       "      <th>min</th>\n",
       "      <th>max</th>\n",
       "      <th>minute</th>\n",
       "      <th>hour</th>\n",
       "      <th>day_of_week</th>\n",
       "      <th>day_of_month</th>\n",
       "      <th>month</th>\n",
       "      <th>year</th>\n",
       "      <th>all_duration</th>\n",
       "      <th>site_with_max_timespan</th>\n",
       "    </tr>\n",
       "    <tr>\n",
       "      <th>session_id</th>\n",
       "      <th></th>\n",
       "      <th></th>\n",
       "      <th></th>\n",
       "      <th></th>\n",
       "      <th></th>\n",
       "      <th></th>\n",
       "      <th></th>\n",
       "      <th></th>\n",
       "      <th></th>\n",
       "      <th></th>\n",
       "    </tr>\n",
       "  </thead>\n",
       "  <tbody>\n",
       "    <tr>\n",
       "      <th>21669</th>\n",
       "      <td>2013-01-12 08:05:57</td>\n",
       "      <td>2013-01-12 08:05:57</td>\n",
       "      <td>5</td>\n",
       "      <td>8</td>\n",
       "      <td>5</td>\n",
       "      <td>12</td>\n",
       "      <td>1</td>\n",
       "      <td>2013</td>\n",
       "      <td>-0.468233</td>\n",
       "      <td>None</td>\n",
       "    </tr>\n",
       "    <tr>\n",
       "      <th>54843</th>\n",
       "      <td>2013-01-12 08:37:23</td>\n",
       "      <td>2013-01-12 09:07:09</td>\n",
       "      <td>37</td>\n",
       "      <td>8</td>\n",
       "      <td>5</td>\n",
       "      <td>12</td>\n",
       "      <td>1</td>\n",
       "      <td>2013</td>\n",
       "      <td>5.570015</td>\n",
       "      <td>safebrowsing-cache.google.com</td>\n",
       "    </tr>\n",
       "    <tr>\n",
       "      <th>77292</th>\n",
       "      <td>2013-01-12 08:50:13</td>\n",
       "      <td>2013-01-12 08:50:17</td>\n",
       "      <td>50</td>\n",
       "      <td>8</td>\n",
       "      <td>5</td>\n",
       "      <td>12</td>\n",
       "      <td>1</td>\n",
       "      <td>2013</td>\n",
       "      <td>-0.454709</td>\n",
       "      <td>None</td>\n",
       "    </tr>\n",
       "    <tr>\n",
       "      <th>114021</th>\n",
       "      <td>2013-01-12 08:50:17</td>\n",
       "      <td>2013-01-12 08:50:20</td>\n",
       "      <td>50</td>\n",
       "      <td>8</td>\n",
       "      <td>5</td>\n",
       "      <td>12</td>\n",
       "      <td>1</td>\n",
       "      <td>2013</td>\n",
       "      <td>-0.458090</td>\n",
       "      <td>None</td>\n",
       "    </tr>\n",
       "    <tr>\n",
       "      <th>146670</th>\n",
       "      <td>2013-01-12 08:50:20</td>\n",
       "      <td>2013-01-12 08:50:22</td>\n",
       "      <td>50</td>\n",
       "      <td>8</td>\n",
       "      <td>5</td>\n",
       "      <td>12</td>\n",
       "      <td>1</td>\n",
       "      <td>2013</td>\n",
       "      <td>-0.461471</td>\n",
       "      <td>None</td>\n",
       "    </tr>\n",
       "  </tbody>\n",
       "</table>\n",
       "</div>"
      ],
      "text/plain": [
       "                           min                 max  minute  hour  day_of_week  \\\n",
       "session_id                                                                      \n",
       "21669      2013-01-12 08:05:57 2013-01-12 08:05:57       5     8            5   \n",
       "54843      2013-01-12 08:37:23 2013-01-12 09:07:09      37     8            5   \n",
       "77292      2013-01-12 08:50:13 2013-01-12 08:50:17      50     8            5   \n",
       "114021     2013-01-12 08:50:17 2013-01-12 08:50:20      50     8            5   \n",
       "146670     2013-01-12 08:50:20 2013-01-12 08:50:22      50     8            5   \n",
       "\n",
       "            day_of_month  month  year  all_duration  \\\n",
       "session_id                                            \n",
       "21669                 12      1  2013     -0.468233   \n",
       "54843                 12      1  2013      5.570015   \n",
       "77292                 12      1  2013     -0.454709   \n",
       "114021                12      1  2013     -0.458090   \n",
       "146670                12      1  2013     -0.461471   \n",
       "\n",
       "                   site_with_max_timespan  \n",
       "session_id                                 \n",
       "21669                                None  \n",
       "54843       safebrowsing-cache.google.com  \n",
       "77292                                None  \n",
       "114021                               None  \n",
       "146670                               None  "
      ]
     },
     "execution_count": 31,
     "metadata": {},
     "output_type": "execute_result"
    }
   ],
   "source": [
    "X_train_times.head()"
   ]
  },
  {
   "cell_type": "markdown",
   "metadata": {},
   "source": [
    "**Если обратить внимание на минимальное и максимальное время сессии в обучающей и тестовой выборках, то увидим, что выборки даны за два года (2013 и 2014), причем данные из тестовой выборки следуют по временной шкале сразу за обучающей выборкой.**"
   ]
  },
  {
   "cell_type": "code",
   "execution_count": 32,
   "metadata": {},
   "outputs": [
    {
     "name": "stdout",
     "output_type": "stream",
     "text": [
      "2013-01-12 08:05:57\n",
      "2014-04-30 23:39:53\n",
      "2014-05-01 17:14:03\n",
      "2014-12-05 23:26:53\n"
     ]
    }
   ],
   "source": [
    "print(X_train_times['min'].min())\n",
    "print(X_train_times['min'].max())\n",
    "print(X_test_times['min'].min())\n",
    "print(X_test_times['min'].max())"
   ]
  },
  {
   "cell_type": "markdown",
   "metadata": {},
   "source": [
    "**Для оценки модели стоит делать кросс-валидацию по интервалам времени с помощью объекта `TimeSeriesSplit`.**"
   ]
  },
  {
   "cell_type": "code",
   "execution_count": 33,
   "metadata": {},
   "outputs": [],
   "source": [
    "time_split = TimeSeriesSplit(n_splits=10)"
   ]
  },
  {
   "cell_type": "markdown",
   "metadata": {},
   "source": [
    "**Далее проведем анализ созданных признаков.**\n",
    "\n",
    "**Для удобства анализа выделим в отдельные группы сессии, принадлежащие Элис, и сессии, принадлежащие другим людям.**"
   ]
  },
  {
   "cell_type": "code",
   "execution_count": 34,
   "metadata": {},
   "outputs": [
    {
     "name": "stdout",
     "output_type": "stream",
     "text": [
      "Alice: (2297, 10)\n",
      "Others: (251264, 10)\n"
     ]
    }
   ],
   "source": [
    "# Сессии Alice\n",
    "X_data_Alice = X_train_times[y_train == 1]\n",
    "print('Alice:', X_data_Alice.shape)\n",
    "\n",
    "# Сессии других людей\n",
    "X_data_others = X_train_times[y_train == 0]\n",
    "print('Others:', X_data_others.shape)\n",
    "\n",
    "# Создадим словари с данными и подписями для построения графиков\n",
    "data = {0:X_data_others, 1:X_data_Alice}\n",
    "title = {0:'Others', 1:'Alice'}"
   ]
  },
  {
   "cell_type": "markdown",
   "metadata": {},
   "source": [
    "**Построим гистограммы распределений чисел месяца начала сессии (`day_of_month`) для сессий, принадлежащих Элис, и для сессий, принадлежащих другим пользователям.**"
   ]
  },
  {
   "cell_type": "code",
   "execution_count": 35,
   "metadata": {},
   "outputs": [
    {
     "data": {
      "image/png": "[encoded data removed]",
      "text/plain": [
       "<Figure size 1080x288 with 2 Axes>"
      ]
     },
     "metadata": {
      "needs_background": "light"
     },
     "output_type": "display_data"
    }
   ],
   "source": [
    "fig, ax = plt.subplots(nrows=1, ncols=2, figsize=(15, 4))\n",
    "\n",
    "for i in [0, 1]:\n",
    "    ax[i].hist(data[i]['day_of_month'], edgecolor='black', bins=range(0, 31), align='left')\n",
    "    ax[i].set_title(title[i])\n",
    "    ax[i].set_ylabel('Кол-во сессий')\n",
    "    ax[i].set_xlabel('Число месяца')\n",
    "    ax[i].set_xticks(range(0, 31))\n",
    "    ax[i].grid()"
   ]
  },
  {
   "cell_type": "markdown",
   "metadata": {},
   "source": [
    "**Если добавить признак число месяца в модель, то модель переобучится, так как ухудшится score при посылке на kaggle. Видимо, нет закономерности в том какое число на календаре. Но на данных Элис видим, что 3,21,23,26 числа нет сессий Элис, возможно на тесте такая закономерность повторяется. Имеет смысл сделать признак, что сессия началась в эти даты (3,21,23,26). Посылка на kaggle подтверждает эту гипотезу, score заметно вырос**"
   ]
  },
  {
   "cell_type": "markdown",
   "metadata": {},
   "source": [
    "**Построим гистограммы распределений числа месяца начала сессии (`day_of_week`) для train и test.**"
   ]
  },
  {
   "cell_type": "code",
   "execution_count": 36,
   "metadata": {},
   "outputs": [
    {
     "data": {
      "image/png": "[encoded data removed]",
      "text/plain": [
       "<Figure size 1080x288 with 2 Axes>"
      ]
     },
     "metadata": {
      "needs_background": "light"
     },
     "output_type": "display_data"
    }
   ],
   "source": [
    "fig, ax = plt.subplots(nrows=1, ncols=2, figsize=(15, 4))\n",
    "\n",
    "ax[0].hist(X_train_times['day_of_month'], edgecolor='black', bins=range(0, 31), align='left')\n",
    "ax[0].set_title('train')\n",
    "ax[0].set_ylabel('Кол-во сессий')\n",
    "ax[0].set_xlabel('День месяца')\n",
    "ax[0].set_xticks(range(0, 31))\n",
    "ax[0].grid()\n",
    "\n",
    "ax[1].hist(X_test_times['day_of_month'], edgecolor='black', bins=range(0, 31), align='left')\n",
    "ax[1].set_title('test')\n",
    "ax[1].set_ylabel('Кол-во сессий')\n",
    "ax[1].set_xlabel('День месяца')\n",
    "ax[1].set_xticks(range(0, 31))\n",
    "ax[1].grid()"
   ]
  },
  {
   "cell_type": "markdown",
   "metadata": {},
   "source": [
    "**Построим гистограммы распределений дня недели начала сессии (`day_of_week`) для сессий, принадлежащих Элис, и для сессий, принадлежащих другим пользователям.**"
   ]
  },
  {
   "cell_type": "code",
   "execution_count": 37,
   "metadata": {},
   "outputs": [
    {
     "data": {
      "image/png": "[encoded data removed]",
      "text/plain": [
       "<Figure size 1080x288 with 2 Axes>"
      ]
     },
     "metadata": {
      "needs_background": "light"
     },
     "output_type": "display_data"
    }
   ],
   "source": [
    "fig, ax = plt.subplots(nrows=1, ncols=2, figsize=(15, 4))\n",
    "\n",
    "for i in [0, 1]:\n",
    "    ax[i].hist(data[i]['day_of_week'], edgecolor='black', bins=range(0, 8), align='left')\n",
    "    ax[i].set_title(title[i])\n",
    "    ax[i].set_ylabel('Кол-во сессий')\n",
    "    ax[i].set_xlabel('День недели')\n",
    "    ax[i].set_xticks(range(0, 7))\n",
    "    ax[i].set_xticklabels(['Пн', 'Вт', 'Ср', 'Чт', 'Пт', 'Сб', 'Вс'])\n",
    "    ax[i].grid()"
   ]
  },
  {
   "cell_type": "markdown",
   "metadata": {},
   "source": [
    "**Видим, что у Элис есть дни, в которые она более активна в сети (Пн, Вт, Чт, Пт), а есть дни, в которые она менее активна (Ср, Сб, Вс). Данный признак (`day_of_week`) стоит добавить в итоговую модель.**"
   ]
  },
  {
   "cell_type": "markdown",
   "metadata": {},
   "source": [
    "**Построим гистограммы распределений часа начала сессии (`hour`) для сессий, принадлежащих Элис, и для сессий, принадлежащих другим пользователям.**"
   ]
  },
  {
   "cell_type": "code",
   "execution_count": 38,
   "metadata": {},
   "outputs": [
    {
     "data": {
      "image/png": "[encoded data removed]",
      "text/plain": [
       "<Figure size 1080x288 with 2 Axes>"
      ]
     },
     "metadata": {
      "needs_background": "light"
     },
     "output_type": "display_data"
    }
   ],
   "source": [
    "fig, ax = plt.subplots(nrows=1, ncols=2, figsize=(15,4))\n",
    "\n",
    "for i in [0, 1]:\n",
    "    ax[i].hist(data[i]['hour'], edgecolor='black', bins=range(0, 25), align='left')\n",
    "    ax[i].set_title(title[i])\n",
    "    ax[i].set_ylabel('Кол-во сессий')\n",
    "    ax[i].set_xlabel('Час начала сессии')\n",
    "    ax[i].set_xticks(range(1, 25))\n",
    "    ax[i].grid()"
   ]
  },
  {
   "cell_type": "markdown",
   "metadata": {},
   "source": [
    "**Видим, что у всех пользователей (в том числе и у Элис) отсутствует активность в сети с 0 часов ночи до 6 часов утра. У Элис также наблюдаются периоды активности и бездействия в сети. Удобно будет разбить выборку на интервалы времени по посещенным часам: утро (`morning`), день (`day`) и вечер (`evening`).**"
   ]
  },
  {
   "cell_type": "code",
   "execution_count": 39,
   "metadata": {},
   "outputs": [
    {
     "data": {
      "image/png": "[encoded data removed]",
      "text/plain": [
       "<Figure size 1080x288 with 2 Axes>"
      ]
     },
     "metadata": {
      "needs_background": "light"
     },
     "output_type": "display_data"
    }
   ],
   "source": [
    "fig, ax = plt.subplots(nrows=1, ncols=2, figsize=(15, 4))\n",
    "\n",
    "ax[0].hist(X_train_times['hour'], edgecolor='black', bins=range(0, 31), align='left')\n",
    "ax[0].set_title('train')\n",
    "ax[0].set_ylabel('Кол-во сессий')\n",
    "ax[0].set_xlabel('Час')\n",
    "ax[0].set_xticks(range(0, 24))\n",
    "ax[0].grid()\n",
    "\n",
    "ax[1].hist(X_test_times['hour'], edgecolor='black', bins=range(0, 31), align='left')\n",
    "ax[1].set_title('test')\n",
    "ax[1].set_ylabel('Кол-во сессий')\n",
    "ax[1].set_xlabel('Час')\n",
    "ax[1].set_xticks(range(0, 24))\n",
    "ax[1].grid()"
   ]
  },
  {
   "cell_type": "markdown",
   "metadata": {},
   "source": [
    "**Построим гистограммы распределений месяца начала сессии (`month`) для сессий, принадлежащих Элис, и для сессий, принадлежащих другим пользователям.**"
   ]
  },
  {
   "cell_type": "code",
   "execution_count": 40,
   "metadata": {},
   "outputs": [
    {
     "data": {
      "image/png": "[encoded data removed]",
      "text/plain": [
       "<Figure size 1080x288 with 2 Axes>"
      ]
     },
     "metadata": {
      "needs_background": "light"
     },
     "output_type": "display_data"
    }
   ],
   "source": [
    "fig, ax = plt.subplots(nrows=1, ncols=2, figsize=(15,4))\n",
    "\n",
    "for i in [0, 1]:\n",
    "    ax[i].hist(data[i]['month'], edgecolor='black', bins=range(0, 14), align='left')\n",
    "    ax[i].set_title(title[i])\n",
    "    ax[i].set_ylabel('Кол-во сессий')\n",
    "    ax[i].set_xlabel('Месяц начала сессии')\n",
    "    ax[i].set_xticks(range(1, 13))\n",
    "    ax[i].grid()"
   ]
  },
  {
   "cell_type": "markdown",
   "metadata": {},
   "source": [
    "**Видим, что есть существенные различия между Элис и остальными пользователями. Казалось бы, что это информативный признак. Но давайте посмотрим чем отличаются рапределения признака month в train и test.**"
   ]
  },
  {
   "cell_type": "code",
   "execution_count": 41,
   "metadata": {},
   "outputs": [
    {
     "data": {
      "image/png": "[encoded data removed]",
      "text/plain": [
       "<Figure size 1080x288 with 2 Axes>"
      ]
     },
     "metadata": {
      "needs_background": "light"
     },
     "output_type": "display_data"
    }
   ],
   "source": [
    "fig, ax = plt.subplots(nrows=1, ncols=2, figsize=(15, 4))\n",
    "\n",
    "ax[0].hist(X_train_times['month'], bins=range(0, 14), edgecolor='black', align='left')\n",
    "ax[0].set_title('train_number_of_sites')\n",
    "ax[0].set_ylabel('Кол-во сессий')\n",
    "ax[0].set_xlabel('Кол-во посещенных сайтов')\n",
    "ax[0].grid()\n",
    "\n",
    "ax[1].hist(X_test_times['month'], bins=range(0, 14), edgecolor='black', align='left')\n",
    "ax[1].set_title('test_number_of_sites')\n",
    "ax[1].set_ylabel('Кол-во сессий')\n",
    "ax[1].set_xlabel('Месяц')\n",
    "ax[1].grid()"
   ]
  },
  {
   "cell_type": "markdown",
   "metadata": {},
   "source": [
    "**Видим, что предсказывать нужно в том числе и в месяцы (май-октябрь), когда и у Элис и у остальных пользоватлей в выборке train практически не было активности. То есть использование признака month повлечет переобучение модели, что подтверждается предсказанием на лидерборде Kaggle - при исключении признакак month, оценка повысилась на 0.003, но имеет смысл добавить признаки, когда у Элис не было сессий (лето и октябрь), так как есть подозрения, что на тесте в эти месяцы у Элис так же не было сессий**"
   ]
  },
  {
   "cell_type": "markdown",
   "metadata": {},
   "source": [
    "**Построим гистограммы распределений минуты начала сессии (`minute`) для сессий, принадлежащих Элис, и для сессий, принадлежащих другим пользователям.**"
   ]
  },
  {
   "cell_type": "code",
   "execution_count": 42,
   "metadata": {},
   "outputs": [
    {
     "data": {
      "image/png": "[encoded data removed]",
      "text/plain": [
       "<Figure size 1368x288 with 2 Axes>"
      ]
     },
     "metadata": {
      "needs_background": "light"
     },
     "output_type": "display_data"
    }
   ],
   "source": [
    "fig, ax = plt.subplots(nrows=1, ncols=2, figsize=(19, 4))\n",
    "\n",
    "for i in [0, 1]:\n",
    "    ax[i].hist(data[i]['minute'], edgecolor='black', bins=60, align='left')\n",
    "    ax[i].set_title(title[i])\n",
    "    ax[i].set_ylabel('Кол-во сессий')\n",
    "    ax[i].set_xlabel('Минута')\n",
    "#    ax[i].set_xticks(range(0, 7))\n",
    "#     ax[i].set_xticklabels(['Пн', 'Вт', 'Ср', 'Чт', 'Пт', 'Сб', 'Вс'])\n",
    "    ax[i].grid()"
   ]
  },
  {
   "cell_type": "markdown",
   "metadata": {},
   "source": [
    "**Особых закономерностей не наблюдается, но попробуем выделить периоды, в которых среднее значение в выборке Элис отличается от среднего по всей выборке Элис, например с 12 по 34 минуты**"
   ]
  },
  {
   "cell_type": "markdown",
   "metadata": {},
   "source": [
    "## Добавление новых признаков и построение итоговой модели"
   ]
  },
  {
   "cell_type": "code",
   "execution_count": 43,
   "metadata": {},
   "outputs": [],
   "source": [
    "def time_features_additional(df):\n",
    "#    df['0_11_minute'] = ((df['minute'] >=  0) & (df['minute'] <= 11)).astype('int')\n",
    "    df['12_34_minute'] = ((df['minute'] >=  12) & (df['minute'] <= 34)).astype('int')\n",
    "    df['35_60_minute'] = ((df['minute'] >=  35) & (df['minute'] <= 60)).astype('int')\n",
    "    df['hour_7'] = (df['hour'] == 7).astype('int')\n",
    "    df['hour_8'] = (df['hour'] == 8).astype('int')\n",
    "    df['hour_9'] = (df['hour'] == 9).astype('int')\n",
    "    df['hour_10'] = (df['hour'] == 10).astype('int')\n",
    "    df['hour_11'] = (df['hour'] == 11).astype('int')\n",
    "    df['hour_12'] = (df['hour'] == 12).astype('int')\n",
    "    df['hour_14'] = (df['hour'] == 14).astype('int')\n",
    "    df['hour_15'] = (df['hour'] == 15).astype('int')\n",
    "    df['hour_17'] = (df['hour'] == 17).astype('int')\n",
    "    df['morning'] = ((df['hour'] >=  7) & (df['hour'] <= 11)).astype('int')\n",
    "#    df['day']     = ((df['hour'] >= 12) & (df['hour'] <= 18)).astype('int')\n",
    "    df['evening'] = ((df['hour'] >= 19) & (df['hour'] <= 23)).astype('int')  \n",
    "    df['day_out'] = (df['day_of_month'].isin([3,21,23,26])).astype('int')\n",
    "    df['summer'] = ((( 6 <= df['month']) & (df['month'] <= 8)) | (df['month'] == 10)).astype('int')\n",
    "    df['november'] = (df['month'] == 11).astype('int')\n",
    "    df['december'] = (df['month'] == 12).astype('int')\n",
    "    \n",
    "    return df"
   ]
  },
  {
   "cell_type": "code",
   "execution_count": 44,
   "metadata": {},
   "outputs": [],
   "source": [
    "X_train_times = time_features_additional(X_train_times)\n",
    "X_test_times  = time_features_additional(X_test_times)"
   ]
  },
  {
   "cell_type": "code",
   "execution_count": 45,
   "metadata": {},
   "outputs": [
    {
     "data": {
      "text/html": [
       "<div>\n",
       "<style scoped>\n",
       "    .dataframe tbody tr th:only-of-type {\n",
       "        vertical-align: middle;\n",
       "    }\n",
       "\n",
       "    .dataframe tbody tr th {\n",
       "        vertical-align: top;\n",
       "    }\n",
       "\n",
       "    .dataframe thead th {\n",
       "        text-align: right;\n",
       "    }\n",
       "</style>\n",
       "<table border=\"1\" class=\"dataframe\">\n",
       "  <thead>\n",
       "    <tr style=\"text-align: right;\">\n",
       "      <th></th>\n",
       "      <th>min</th>\n",
       "      <th>max</th>\n",
       "      <th>minute</th>\n",
       "      <th>hour</th>\n",
       "      <th>day_of_week</th>\n",
       "      <th>day_of_month</th>\n",
       "      <th>month</th>\n",
       "      <th>year</th>\n",
       "      <th>all_duration</th>\n",
       "      <th>site_with_max_timespan</th>\n",
       "      <th>0_11_minute</th>\n",
       "      <th>12_34_minute</th>\n",
       "      <th>35_60_minute</th>\n",
       "      <th>hour_7</th>\n",
       "      <th>hour_8</th>\n",
       "      <th>hour_9</th>\n",
       "      <th>hour_10</th>\n",
       "      <th>hour_11</th>\n",
       "      <th>hour_12</th>\n",
       "      <th>hour_14</th>\n",
       "      <th>hour_15</th>\n",
       "      <th>hour_17</th>\n",
       "      <th>morning</th>\n",
       "      <th>evening</th>\n",
       "      <th>day_out</th>\n",
       "      <th>summer</th>\n",
       "      <th>november</th>\n",
       "      <th>december</th>\n",
       "    </tr>\n",
       "    <tr>\n",
       "      <th>session_id</th>\n",
       "      <th></th>\n",
       "      <th></th>\n",
       "      <th></th>\n",
       "      <th></th>\n",
       "      <th></th>\n",
       "      <th></th>\n",
       "      <th></th>\n",
       "      <th></th>\n",
       "      <th></th>\n",
       "      <th></th>\n",
       "      <th></th>\n",
       "      <th></th>\n",
       "      <th></th>\n",
       "      <th></th>\n",
       "      <th></th>\n",
       "      <th></th>\n",
       "      <th></th>\n",
       "      <th></th>\n",
       "      <th></th>\n",
       "      <th></th>\n",
       "      <th></th>\n",
       "      <th></th>\n",
       "      <th></th>\n",
       "      <th></th>\n",
       "      <th></th>\n",
       "      <th></th>\n",
       "      <th></th>\n",
       "      <th></th>\n",
       "    </tr>\n",
       "  </thead>\n",
       "  <tbody>\n",
       "    <tr>\n",
       "      <th>21669</th>\n",
       "      <td>2013-01-12 08:05:57</td>\n",
       "      <td>2013-01-12 08:05:57</td>\n",
       "      <td>5</td>\n",
       "      <td>8</td>\n",
       "      <td>5</td>\n",
       "      <td>12</td>\n",
       "      <td>1</td>\n",
       "      <td>2013</td>\n",
       "      <td>-0.468233</td>\n",
       "      <td>None</td>\n",
       "      <td>1</td>\n",
       "      <td>0</td>\n",
       "      <td>0</td>\n",
       "      <td>0</td>\n",
       "      <td>1</td>\n",
       "      <td>0</td>\n",
       "      <td>0</td>\n",
       "      <td>0</td>\n",
       "      <td>0</td>\n",
       "      <td>0</td>\n",
       "      <td>0</td>\n",
       "      <td>0</td>\n",
       "      <td>1</td>\n",
       "      <td>0</td>\n",
       "      <td>0</td>\n",
       "      <td>0</td>\n",
       "      <td>0</td>\n",
       "      <td>0</td>\n",
       "    </tr>\n",
       "    <tr>\n",
       "      <th>54843</th>\n",
       "      <td>2013-01-12 08:37:23</td>\n",
       "      <td>2013-01-12 09:07:09</td>\n",
       "      <td>37</td>\n",
       "      <td>8</td>\n",
       "      <td>5</td>\n",
       "      <td>12</td>\n",
       "      <td>1</td>\n",
       "      <td>2013</td>\n",
       "      <td>5.570015</td>\n",
       "      <td>safebrowsing-cache.google.com</td>\n",
       "      <td>0</td>\n",
       "      <td>0</td>\n",
       "      <td>1</td>\n",
       "      <td>0</td>\n",
       "      <td>1</td>\n",
       "      <td>0</td>\n",
       "      <td>0</td>\n",
       "      <td>0</td>\n",
       "      <td>0</td>\n",
       "      <td>0</td>\n",
       "      <td>0</td>\n",
       "      <td>0</td>\n",
       "      <td>1</td>\n",
       "      <td>0</td>\n",
       "      <td>0</td>\n",
       "      <td>0</td>\n",
       "      <td>0</td>\n",
       "      <td>0</td>\n",
       "    </tr>\n",
       "    <tr>\n",
       "      <th>77292</th>\n",
       "      <td>2013-01-12 08:50:13</td>\n",
       "      <td>2013-01-12 08:50:17</td>\n",
       "      <td>50</td>\n",
       "      <td>8</td>\n",
       "      <td>5</td>\n",
       "      <td>12</td>\n",
       "      <td>1</td>\n",
       "      <td>2013</td>\n",
       "      <td>-0.454709</td>\n",
       "      <td>None</td>\n",
       "      <td>0</td>\n",
       "      <td>0</td>\n",
       "      <td>1</td>\n",
       "      <td>0</td>\n",
       "      <td>1</td>\n",
       "      <td>0</td>\n",
       "      <td>0</td>\n",
       "      <td>0</td>\n",
       "      <td>0</td>\n",
       "      <td>0</td>\n",
       "      <td>0</td>\n",
       "      <td>0</td>\n",
       "      <td>1</td>\n",
       "      <td>0</td>\n",
       "      <td>0</td>\n",
       "      <td>0</td>\n",
       "      <td>0</td>\n",
       "      <td>0</td>\n",
       "    </tr>\n",
       "    <tr>\n",
       "      <th>114021</th>\n",
       "      <td>2013-01-12 08:50:17</td>\n",
       "      <td>2013-01-12 08:50:20</td>\n",
       "      <td>50</td>\n",
       "      <td>8</td>\n",
       "      <td>5</td>\n",
       "      <td>12</td>\n",
       "      <td>1</td>\n",
       "      <td>2013</td>\n",
       "      <td>-0.458090</td>\n",
       "      <td>None</td>\n",
       "      <td>0</td>\n",
       "      <td>0</td>\n",
       "      <td>1</td>\n",
       "      <td>0</td>\n",
       "      <td>1</td>\n",
       "      <td>0</td>\n",
       "      <td>0</td>\n",
       "      <td>0</td>\n",
       "      <td>0</td>\n",
       "      <td>0</td>\n",
       "      <td>0</td>\n",
       "      <td>0</td>\n",
       "      <td>1</td>\n",
       "      <td>0</td>\n",
       "      <td>0</td>\n",
       "      <td>0</td>\n",
       "      <td>0</td>\n",
       "      <td>0</td>\n",
       "    </tr>\n",
       "    <tr>\n",
       "      <th>146670</th>\n",
       "      <td>2013-01-12 08:50:20</td>\n",
       "      <td>2013-01-12 08:50:22</td>\n",
       "      <td>50</td>\n",
       "      <td>8</td>\n",
       "      <td>5</td>\n",
       "      <td>12</td>\n",
       "      <td>1</td>\n",
       "      <td>2013</td>\n",
       "      <td>-0.461471</td>\n",
       "      <td>None</td>\n",
       "      <td>0</td>\n",
       "      <td>0</td>\n",
       "      <td>1</td>\n",
       "      <td>0</td>\n",
       "      <td>1</td>\n",
       "      <td>0</td>\n",
       "      <td>0</td>\n",
       "      <td>0</td>\n",
       "      <td>0</td>\n",
       "      <td>0</td>\n",
       "      <td>0</td>\n",
       "      <td>0</td>\n",
       "      <td>1</td>\n",
       "      <td>0</td>\n",
       "      <td>0</td>\n",
       "      <td>0</td>\n",
       "      <td>0</td>\n",
       "      <td>0</td>\n",
       "    </tr>\n",
       "  </tbody>\n",
       "</table>\n",
       "</div>"
      ],
      "text/plain": [
       "                           min                 max  minute  hour  day_of_week  \\\n",
       "session_id                                                                      \n",
       "21669      2013-01-12 08:05:57 2013-01-12 08:05:57       5     8            5   \n",
       "54843      2013-01-12 08:37:23 2013-01-12 09:07:09      37     8            5   \n",
       "77292      2013-01-12 08:50:13 2013-01-12 08:50:17      50     8            5   \n",
       "114021     2013-01-12 08:50:17 2013-01-12 08:50:20      50     8            5   \n",
       "146670     2013-01-12 08:50:20 2013-01-12 08:50:22      50     8            5   \n",
       "\n",
       "            day_of_month  month  year  all_duration  \\\n",
       "session_id                                            \n",
       "21669                 12      1  2013     -0.468233   \n",
       "54843                 12      1  2013      5.570015   \n",
       "77292                 12      1  2013     -0.454709   \n",
       "114021                12      1  2013     -0.458090   \n",
       "146670                12      1  2013     -0.461471   \n",
       "\n",
       "                   site_with_max_timespan  0_11_minute  12_34_minute  \\\n",
       "session_id                                                             \n",
       "21669                                None            1             0   \n",
       "54843       safebrowsing-cache.google.com            0             0   \n",
       "77292                                None            0             0   \n",
       "114021                               None            0             0   \n",
       "146670                               None            0             0   \n",
       "\n",
       "            35_60_minute  hour_7  hour_8  hour_9  hour_10  hour_11  hour_12  \\\n",
       "session_id                                                                    \n",
       "21669                  0       0       1       0        0        0        0   \n",
       "54843                  1       0       1       0        0        0        0   \n",
       "77292                  1       0       1       0        0        0        0   \n",
       "114021                 1       0       1       0        0        0        0   \n",
       "146670                 1       0       1       0        0        0        0   \n",
       "\n",
       "            hour_14  hour_15  hour_17  morning  evening  day_out  summer  \\\n",
       "session_id                                                                 \n",
       "21669             0        0        0        1        0        0       0   \n",
       "54843             0        0        0        1        0        0       0   \n",
       "77292             0        0        0        1        0        0       0   \n",
       "114021            0        0        0        1        0        0       0   \n",
       "146670            0        0        0        1        0        0       0   \n",
       "\n",
       "            november  december  \n",
       "session_id                      \n",
       "21669              0         0  \n",
       "54843              0         0  \n",
       "77292              0         0  \n",
       "114021             0         0  \n",
       "146670             0         0  "
      ]
     },
     "execution_count": 45,
     "metadata": {},
     "output_type": "execute_result"
    }
   ],
   "source": [
    "X_train_times.head()"
   ]
  },
  {
   "cell_type": "markdown",
   "metadata": {},
   "source": [
    "**Формируем итоговые обучающую и тестовую выборки**"
   ]
  },
  {
   "cell_type": "markdown",
   "metadata": {},
   "source": [
    "**One-Hot Encoding**"
   ]
  },
  {
   "cell_type": "code",
   "execution_count": 46,
   "metadata": {},
   "outputs": [],
   "source": [
    "oh_time_features = ['day_of_week',\n",
    "                    'year',\n",
    "                    'site_with_max_timespan'\n",
    "                   ]"
   ]
  },
  {
   "cell_type": "code",
   "execution_count": 47,
   "metadata": {},
   "outputs": [],
   "source": [
    "categories = []\n",
    "categories.append(list(X_train_times['day_of_week'].unique()))\n",
    "categories.append(list(X_train_times['year'].unique()))\n",
    "categories.append(\n",
    "    list(X_train_times['site_with_max_timespan'].unique()) + list(X_test_times['site_with_max_timespan'].unique()))"
   ]
  },
  {
   "cell_type": "code",
   "execution_count": 48,
   "metadata": {},
   "outputs": [],
   "source": [
    "onehot_encoder = OneHotEncoder(sparse=False, categories=categories)\n",
    "X_train_oh_encoded = onehot_encoder.fit_transform(X_train_times[oh_time_features].values)\n",
    "X_test_oh_encoded = onehot_encoder.transform(X_test_times[oh_time_features].values)"
   ]
  },
  {
   "cell_type": "code",
   "execution_count": 49,
   "metadata": {},
   "outputs": [
    {
     "data": {
      "text/plain": [
       "(253561, 1369)"
      ]
     },
     "execution_count": 49,
     "metadata": {},
     "output_type": "execute_result"
    }
   ],
   "source": [
    "X_train_oh_encoded.shape"
   ]
  },
  {
   "cell_type": "code",
   "execution_count": 50,
   "metadata": {},
   "outputs": [],
   "source": [
    "derivative_time_features = ['morning',\n",
    "                            '12_34_minute',\n",
    "                            '35_60_minute',  \n",
    "                            'evening',\n",
    "                            'hour_7',\n",
    "                            'hour_8',\n",
    "                            'hour_9',\n",
    "                            'hour_10',\n",
    "                            'hour_11',\n",
    "                            'hour_12',\n",
    "                            'hour_14',\n",
    "                            'hour_15',\n",
    "                            'hour_17',\n",
    "                            'day_out',\n",
    "                            'all_duration',\n",
    "                            'november',\n",
    "                            'december',                            \n",
    "                            'summer']\n",
    "\n",
    "X_train_final = hstack([X_train_tfidf, \n",
    "                        X_train_times[derivative_time_features].values,\n",
    "                        X_train_oh_encoded,\n",
    "                        train_num_unique_sites])\n",
    "X_test_final = hstack([X_test_tfidf, \n",
    "                       X_test_times[derivative_time_features].values,\n",
    "                       X_test_oh_encoded,\n",
    "                       test_num_unique_sites])"
   ]
  },
  {
   "cell_type": "markdown",
   "metadata": {},
   "source": [
    "## Формирование модели\n",
    "\n",
    "**Будем работать с логистической регрессией. Так как классы сильно несбалансированы, в качестве метрики в данной задаче выбрана ROC-AUC.**"
   ]
  },
  {
   "cell_type": "code",
   "execution_count": 51,
   "metadata": {},
   "outputs": [],
   "source": [
    "logit = LogisticRegression(C=1, random_state=SEED, solver='liblinear')"
   ]
  },
  {
   "cell_type": "markdown",
   "metadata": {},
   "source": [
    "**Посмотрим на оценку метрики на кросс-валидации по времени**"
   ]
  },
  {
   "cell_type": "code",
   "execution_count": 52,
   "metadata": {},
   "outputs": [
    {
     "name": "stdout",
     "output_type": "stream",
     "text": [
      "CV scores: [0.81352 0.89666 0.94141 0.95532 0.95415 0.97937 0.90166 0.98134 0.8429  0.97701]\n",
      "\n",
      "CV mean: 0.92433, CV std: 0.05603\n"
     ]
    }
   ],
   "source": [
    "cv_scores = cross_val_score(logit, X_train_final, y_train, cv=time_split, scoring='roc_auc', n_jobs=-1)\n",
    "\n",
    "print('CV scores:', cv_scores.round(5))\n",
    "print()\n",
    "print('CV mean: {}, CV std: {}'.format(cv_scores.mean().round(5), cv_scores.std().round(5)))"
   ]
  },
  {
   "cell_type": "markdown",
   "metadata": {},
   "source": [
    "**Попробуем улучшить качество модели с помощью поиска по сетке. Подберем значение параметра `C` для логистической регрессии.**"
   ]
  },
  {
   "cell_type": "code",
   "execution_count": 53,
   "metadata": {},
   "outputs": [
    {
     "data": {
      "text/plain": [
       "array([1.00000000e-02, 2.78255940e-02, 7.74263683e-02, 2.15443469e-01, 5.99484250e-01,\n",
       "       1.66810054e+00, 4.64158883e+00, 1.29154967e+01, 3.59381366e+01, 1.00000000e+02])"
      ]
     },
     "execution_count": 53,
     "metadata": {},
     "output_type": "execute_result"
    }
   ],
   "source": [
    "c_values = np.logspace(-2, 2, 10)\n",
    "c_values"
   ]
  },
  {
   "cell_type": "code",
   "execution_count": 54,
   "metadata": {},
   "outputs": [
    {
     "name": "stderr",
     "output_type": "stream",
     "text": [
      "[Parallel(n_jobs=-1)]: Using backend LokyBackend with 4 concurrent workers.\n",
      "[Parallel(n_jobs=-1)]: Done  10 out of  10 | elapsed:  8.6min finished\n"
     ]
    },
    {
     "data": {
      "text/plain": [
       "LogisticRegressionCV(Cs=array([1.00000000e-02, 2.78255940e-02, 7.74263683e-02, 2.15443469e-01, 5.99484250e-01,\n",
       "       1.66810054e+00, 4.64158883e+00, 1.29154967e+01, 3.59381366e+01, 1.00000000e+02]),\n",
       "                     class_weight=None,\n",
       "                     cv=TimeSeriesSplit(max_train_size=None, n_splits=10),\n",
       "                     dual=False, fit_intercept=True, intercept_scaling=1.0,\n",
       "                     l1_ratios=None, max_iter=100, multi_class='ovr', n_jobs=-1,\n",
       "                     penalty='l2', random_state=17, refit=True,\n",
       "                     scoring='roc_auc', solver='liblinear', tol=0.0001,\n",
       "                     verbose=1)"
      ]
     },
     "execution_count": 54,
     "metadata": {},
     "output_type": "execute_result"
    }
   ],
   "source": [
    "logit_cv = LogisticRegressionCV(Cs = c_values,\n",
    "                                multi_class = 'ovr',\n",
    "                                random_state = SEED,\n",
    "                                cv = time_split,\n",
    "                                scoring='roc_auc',\n",
    "                                verbose=1,\n",
    "                                solver='liblinear',\n",
    "                                n_jobs=-1)\n",
    "logit_cv.fit(X_train_final, y_train)"
   ]
  },
  {
   "cell_type": "code",
   "execution_count": 55,
   "metadata": {},
   "outputs": [
    {
     "name": "stdout",
     "output_type": "stream",
     "text": [
      "max_score = 0.9305929082498826\n",
      "best C = 12.915496650148826\n"
     ]
    }
   ],
   "source": [
    "logit_mean_cv_scores = logit_cv.scores_[1].mean(axis=0)\n",
    "logit_mean_cv_scores\n",
    "\n",
    "# лучшее значение ROC-AUC на кросс-валидации\n",
    "max_score = logit_mean_cv_scores.max()\n",
    "print('max_score =', max_score)\n",
    "\n",
    "# соответствующее значение C\n",
    "best_C = logit_cv.Cs_[logit_mean_cv_scores.argmax()]\n",
    "\n",
    "print('best C =', best_C)"
   ]
  },
  {
   "cell_type": "markdown",
   "metadata": {},
   "source": [
    "## Формирование итогового предсказания"
   ]
  },
  {
   "cell_type": "code",
   "execution_count": 56,
   "metadata": {},
   "outputs": [],
   "source": [
    "#used_C = 1.6681005372\n",
    "used_C = best_C"
   ]
  },
  {
   "cell_type": "code",
   "execution_count": 57,
   "metadata": {},
   "outputs": [
    {
     "data": {
      "text/plain": [
       "LogisticRegression(C=12.915496650148826, class_weight=None, dual=False,\n",
       "                   fit_intercept=True, intercept_scaling=1, l1_ratio=None,\n",
       "                   max_iter=100, multi_class='warn', n_jobs=None, penalty='l2',\n",
       "                   random_state=17, solver='liblinear', tol=0.0001, verbose=0,\n",
       "                   warm_start=False)"
      ]
     },
     "execution_count": 57,
     "metadata": {},
     "output_type": "execute_result"
    }
   ],
   "source": [
    "logit_final = LogisticRegression(C=used_C, random_state=SEED, solver='liblinear')\n",
    "logit_final.fit(X_train_final, y_train)"
   ]
  },
  {
   "cell_type": "code",
   "execution_count": 58,
   "metadata": {},
   "outputs": [],
   "source": [
    "predicted_labels = logit_final.predict_proba(X_test_final)[:, 1]"
   ]
  },
  {
   "cell_type": "markdown",
   "metadata": {},
   "source": [
    "**Сохраняем результат в файл**"
   ]
  },
  {
   "cell_type": "code",
   "execution_count": 59,
   "metadata": {},
   "outputs": [],
   "source": [
    "predicted_df = pd.DataFrame(predicted_labels,\n",
    "                            index = np.arange(1, predicted_labels.shape[0] + 1),\n",
    "                            columns=['target'])\n",
    "\n",
    "predicted_df.to_csv(r'submissions/submission_final.csv', index_label='session_id')"
   ]
  },
  {
   "cell_type": "code",
   "execution_count": null,
   "metadata": {},
   "outputs": [],
   "source": []
  },
  {
   "cell_type": "code",
   "execution_count": 60,
   "metadata": {},
   "outputs": [],
   "source": [
    "with open('results.txt', 'a') as f:\n",
    "    f.write(f'{ctime(time())}\\n')\n",
    "    f.write(f'LIMIT_TIMESPAN: {LIMIT_TIMESPAN}\\n')\n",
    "    f.write(f'TFIDF_MAX_FEATURES: {TFIDF_MAX_FEATURES}\\n')\n",
    "    f.write(f'TFIDF_NGRAM_RANGE: {TFIDF_NGRAM_RANGE}\\n')\n",
    "    f.write(f'oh_time_features {oh_time_features}\\n')\n",
    "    f.write(f'derivative_time_features {derivative_time_features}\\n')\n",
    "    f.write(f'CV scores: {cv_scores.round(5)}\\n')\n",
    "    f.write(f'CV mean: {cv_scores.mean().round(5)}, CV std: {cv_scores.std().round(5)}\\n')\n",
    "    f.write(f'max_score = {max_score}\\n')\n",
    "    f.write(f'best_C = {best_C}\\n')\n",
    "    f.write(f'used_C = {used_C}\\n\\n')\n"
   ]
  },
  {
   "cell_type": "code",
   "execution_count": 61,
   "metadata": {},
   "outputs": [
    {
     "ename": "AssertionError",
     "evalue": "",
     "output_type": "error",
     "traceback": [
      "\u001b[1;31m---------------------------------------------------------------------------\u001b[0m",
      "\u001b[1;31mAssertionError\u001b[0m                            Traceback (most recent call last)",
      "\u001b[1;32m<ipython-input-61-730332727407>\u001b[0m in \u001b[0;36m<module>\u001b[1;34m\u001b[0m\n\u001b[1;32m----> 1\u001b[1;33m \u001b[1;32massert\u001b[0m \u001b[1;36m1\u001b[0m\u001b[1;33m==\u001b[0m\u001b[1;36m2\u001b[0m\u001b[1;33m\u001b[0m\u001b[1;33m\u001b[0m\u001b[0m\n\u001b[0m",
      "\u001b[1;31mAssertionError\u001b[0m: "
     ]
    }
   ],
   "source": [
    "assert 1==2"
   ]
  },
  {
   "cell_type": "code",
   "execution_count": null,
   "metadata": {},
   "outputs": [],
   "source": []
  }
 ],
 "metadata": {
  "kernelspec": {
   "display_name": "Python 3",
   "language": "python",
   "name": "python3"
  },
  "language_info": {
   "codemirror_mode": {
    "name": "ipython",
    "version": 3
   },
   "file_extension": ".py",
   "mimetype": "text/x-python",
   "name": "python",
   "nbconvert_exporter": "python",
   "pygments_lexer": "ipython3",
   "version": "3.7.4"
  }
 },
 "nbformat": 4,
 "nbformat_minor": 2
}
